{
 "cells": [
  {
   "cell_type": "code",
   "execution_count": 1,
   "id": "88c97ef0-2eb0-410b-b5c4-e52461f724dc",
   "metadata": {},
   "outputs": [
    {
     "data": {
      "text/plain": [
       "RendererRegistry.enable('mimetype')"
      ]
     },
     "execution_count": 1,
     "metadata": {},
     "output_type": "execute_result"
    }
   ],
   "source": [
    "# import glob\n",
    "# import os\n",
    "import pandas as pd\n",
    "import altair as alt\n",
    "import calendar\n",
    "import datetime\n",
    "from altair import pipe, limit_rows, to_values\n",
    "\n",
    "# Handle large data sets without embedding them in the notebook\n",
    "alt.data_transformers.enable('data_server')\n",
    "# Include an image for each plot since Gradescope only supports displaying plots as images\n",
    "alt.renderers.enable('mimetype')"
   ]
  },
  {
   "cell_type": "code",
   "execution_count": 2,
   "id": "ae2cf838-edd7-480c-993b-342b3c678e31",
   "metadata": {},
   "outputs": [],
   "source": [
    "# Read in the data\n",
    "url = 'https://raw.githubusercontent.com/sgskung/crime320/main/combined.csv'\n",
    "df = pd.read_csv(url)\n",
    "\n",
    "url2 = 'https://raw.githubusercontent.com/sgskung/crime320/main/incomes_ab.csv'\n",
    "df2 = pd.read_csv(url2)"
   ]
  },
  {
   "cell_type": "code",
   "execution_count": 3,
   "id": "cbf1bf62-a870-4209-8772-84e452a3c52d",
   "metadata": {},
   "outputs": [],
   "source": [
    "# Creating necessary variables\n",
    "df['DATE'] = pd.to_datetime(df[['YEAR', 'MONTH', 'DAY']])"
   ]
  }
 ],
 "metadata": {
  "kernelspec": {
   "display_name": "Python 3 (ipykernel)",
   "language": "python",
   "name": "python3"
  },
  "language_info": {
   "codemirror_mode": {
    "name": "ipython",
    "version": 3
   },
   "file_extension": ".py",
   "mimetype": "text/x-python",
   "name": "python",
   "nbconvert_exporter": "python",
   "pygments_lexer": "ipython3",
   "version": "3.10.9"
  }
 },
 "nbformat": 4,
 "nbformat_minor": 5
}
