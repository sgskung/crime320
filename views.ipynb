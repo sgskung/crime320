{
 "cells": [
  {
   "cell_type": "code",
   "execution_count": 3,
   "id": "88c97ef0-2eb0-410b-b5c4-e52461f724dc",
   "metadata": {},
   "outputs": [
    {
     "data": {
      "text/plain": [
       "RendererRegistry.enable('mimetype')"
      ]
     },
     "execution_count": 3,
     "metadata": {},
     "output_type": "execute_result"
    }
   ],
   "source": [
    "# import glob\n",
    "# import os\n",
    "import pandas as pd\n",
    "import altair as alt\n",
    "import calendar\n",
    "import datetime\n",
    "from altair import pipe, limit_rows, to_values\n",
    "#import utm\n",
    "# Handle large data sets without embedding them in the notebook\n",
    "alt.data_transformers.enable('data_server')\n",
    "# Include an image for each plot since Gradescope only supports displaying plots as images\n",
    "alt.renderers.enable('mimetype')"
   ]
  },
  {
   "cell_type": "code",
   "execution_count": 2,
   "id": "ae2cf838-edd7-480c-993b-342b3c678e31",
   "metadata": {},
   "outputs": [],
   "source": [
    "# Read in the data\n",
    "url = 'https://raw.githubusercontent.com/sgskung/crime320/main/combined.csv'\n",
    "df = pd.read_csv(url)\n",
    "\n",
    "url2 = 'https://raw.githubusercontent.com/sgskung/crime320/main/incomes_ab.csv'\n",
    "df2 = pd.read_csv(url2)"
   ]
  },
  {
   "cell_type": "code",
   "execution_count": 5,
   "id": "cbf1bf62-a870-4209-8772-84e452a3c52d",
   "metadata": {},
   "outputs": [],
   "source": [
    "# Creating necessary variables\n",
    "df['DATE'] = pd.to_datetime(df[['YEAR', 'MONTH', 'DAY']])"
   ]
  },
  {
   "cell_type": "code",
   "execution_count": 4,
   "id": "8f7cc571-a767-4414-9072-12bda42daf5c",
   "metadata": {},
   "outputs": [],
   "source": [
    "url_geojson = \"https://raw.githubusercontent.com/blackmad/neighborhoods/master/vancouver.geojson\"\n",
    "data_geojson_remote = alt.Data(url=url_geojson, format=alt.DataFormat(property='features',type='json'))"
   ]
  },
  {
   "cell_type": "code",
   "execution_count": 7,
   "id": "c44a0177-5fee-414a-8913-17e5f60dee86",
   "metadata": {},
   "outputs": [
    {
     "ename": "NameError",
     "evalue": "name 'utm' is not defined",
     "output_type": "error",
     "traceback": [
      "\u001b[0;31m---------------------------------------------------------------------------\u001b[0m",
      "\u001b[0;31mNameError\u001b[0m                                 Traceback (most recent call last)",
      "Cell \u001b[0;32mIn[7], line 5\u001b[0m\n\u001b[1;32m      2\u001b[0m     lat, lon \u001b[38;5;241m=\u001b[39m utm\u001b[38;5;241m.\u001b[39mto_latlon(row[\u001b[38;5;124m\"\u001b[39m\u001b[38;5;124mX\u001b[39m\u001b[38;5;124m\"\u001b[39m], row[\u001b[38;5;124m\"\u001b[39m\u001b[38;5;124mY\u001b[39m\u001b[38;5;124m\"\u001b[39m], \u001b[38;5;241m45\u001b[39m, \u001b[38;5;124m'\u001b[39m\u001b[38;5;124mK\u001b[39m\u001b[38;5;124m'\u001b[39m)\n\u001b[1;32m      3\u001b[0m     \u001b[38;5;28;01mreturn\u001b[39;00m pd\u001b[38;5;241m.\u001b[39mSeries({\u001b[38;5;124m\"\u001b[39m\u001b[38;5;124mlat\u001b[39m\u001b[38;5;124m\"\u001b[39m: X, \u001b[38;5;124m\"\u001b[39m\u001b[38;5;124mlong\u001b[39m\u001b[38;5;124m\"\u001b[39m: Y})\n\u001b[0;32m----> 5\u001b[0m df\u001b[38;5;241m.\u001b[39mmerge(df\u001b[38;5;241m.\u001b[39mapply(\u001b[43mrule\u001b[49m\u001b[43m(\u001b[49m\u001b[43mdf\u001b[49m\u001b[43m)\u001b[49m, axis\u001b[38;5;241m=\u001b[39m\u001b[38;5;241m1\u001b[39m), left_index\u001b[38;5;241m=\u001b[39m \u001b[38;5;28;01mTrue\u001b[39;00m, right_index\u001b[38;5;241m=\u001b[39m \u001b[38;5;28;01mTrue\u001b[39;00m)\n",
      "Cell \u001b[0;32mIn[7], line 2\u001b[0m, in \u001b[0;36mrule\u001b[0;34m(row)\u001b[0m\n\u001b[1;32m      1\u001b[0m \u001b[38;5;28;01mdef\u001b[39;00m \u001b[38;5;21mrule\u001b[39m(row):\n\u001b[0;32m----> 2\u001b[0m     lat, lon \u001b[38;5;241m=\u001b[39m \u001b[43mutm\u001b[49m\u001b[38;5;241m.\u001b[39mto_latlon(row[\u001b[38;5;124m\"\u001b[39m\u001b[38;5;124mX\u001b[39m\u001b[38;5;124m\"\u001b[39m], row[\u001b[38;5;124m\"\u001b[39m\u001b[38;5;124mY\u001b[39m\u001b[38;5;124m\"\u001b[39m], \u001b[38;5;241m45\u001b[39m, \u001b[38;5;124m'\u001b[39m\u001b[38;5;124mK\u001b[39m\u001b[38;5;124m'\u001b[39m)\n\u001b[1;32m      3\u001b[0m     \u001b[38;5;28;01mreturn\u001b[39;00m pd\u001b[38;5;241m.\u001b[39mSeries({\u001b[38;5;124m\"\u001b[39m\u001b[38;5;124mlat\u001b[39m\u001b[38;5;124m\"\u001b[39m: X, \u001b[38;5;124m\"\u001b[39m\u001b[38;5;124mlong\u001b[39m\u001b[38;5;124m\"\u001b[39m: Y})\n",
      "\u001b[0;31mNameError\u001b[0m: name 'utm' is not defined"
     ]
    }
   ],
   "source": [
    "def rule(row):\n",
    "    lat, lon = utm.to_latlon(row[\"X\"], row[\"Y\"], 45, 'K')\n",
    "    return pd.Series({\"lat\": X, \"long\": Y})\n",
    "\n",
    "df.merge(df.apply(rule(df), axis=1), left_index= True, right_index= True)"
   ]
  },
  {
   "cell_type": "code",
   "execution_count": 8,
   "id": "b138f3ba-4a92-450c-bc85-6edacec74c89",
   "metadata": {},
   "outputs": [],
   "source": [
    "crimes = alt.topo_feature(url_geojson, feature = 'Neighborhoods')\n",
    "\n",
    "bg = alt.Chart(crimes).mark_geoshape(fill='lightgray', stroke='white').encode(\n",
    "    longitude='X:Q',\n",
    "    latitude='Y:Q',\n",
    "    size=alt.value(10)\n",
    ").project(\n",
    ").properties(\n",
    "    width=500,\n",
    "    height=400\n",
    ")\n",
    "\n",
    "points = alt.Chart(df).mark_circle().encode(\n",
    "    longitude='X:Q',\n",
    "    latitude='Y:Q',\n",
    "    size=alt.value(15)\n",
    ")\n",
    "\n",
    "bg"
   ]
  },
  {
   "cell_type": "code",
   "execution_count": 9,
   "id": "4861b119-9a06-4f37-96da-be958c4dbbb8",
   "metadata": {},
   "outputs": [
    {
     "name": "stderr",
     "output_type": "stream",
     "text": [
      "/Users/justin/miniforge3/lib/python3.10/site-packages/altair/utils/core.py:283: FutureWarning: iteritems is deprecated and will be removed in a future version. Use .items instead.\n",
      "  for col_name, dtype in df.dtypes.iteritems():\n"
     ]
    },
    {
     "data": {
      "application/vnd.vegalite.v4+json": {
       "$schema": "https://vega.github.io/schema/vega-lite/v4.8.1.json",
       "config": {
        "view": {
         "continuousHeight": 300,
         "continuousWidth": 400
        }
       },
       "data": {
        "url": "http://localhost:56611/4eb14f198321eff1c53e11572a4089f8.json"
       },
       "encoding": {
        "x": {
         "field": "DAY",
         "type": "ordinal"
        },
        "y": {
         "aggregate": "count",
         "type": "quantitative"
        }
       },
       "height": 200,
       "mark": "line",
       "width": 500
      },
      "image/png": "[encoded data removed]",
      "text/plain": [
       "<VegaLite 4 object>\n",
       "\n",
       "If you see this message, it means the renderer has not been properly enabled\n",
       "for the frontend that you are using. For more information, see\n",
       "https://altair-viz.github.io/user_guide/troubleshooting.html\n"
      ]
     },
     "execution_count": 9,
     "metadata": {},
     "output_type": "execute_result"
    }
   ],
   "source": [
    "variable = 'DAY'\n",
    "\n",
    "alt.Chart(df).mark_line(\n",
    ").encode(\n",
    "    alt.X(variable, type = 'ordinal'),\n",
    "    alt.Y('count():Q')\n",
    ").properties(\n",
    "    width = 500,\n",
    "    height = 200\n",
    ")"
   ]
  },
  {
   "cell_type": "code",
   "execution_count": 10,
   "id": "aefa7534-71a1-406b-aea7-04a0e2d7f440",
   "metadata": {},
   "outputs": [
    {
     "data": {
      "text/plain": [
       "Selection('selector001', SelectionDef({\n",
       "  bind: BindRadioSelect({\n",
       "    input: 'select',\n",
       "    name: 'column',\n",
       "    options: ['MONTH', 'DAY', 'HOUR']\n",
       "  }),\n",
       "  fields: ['column'],\n",
       "  init: {'column': 'MONTH'},\n",
       "  type: 'single'\n",
       "}))"
      ]
     },
     "execution_count": 10,
     "metadata": {},
     "output_type": "execute_result"
    }
   ],
   "source": [
    "times = ['MONTH', 'DAY', 'HOUR']\n",
    "timespan = ['Timespan']\n",
    "select_box = alt.binding_select(options=times, name='column')\n",
    "sel = alt.selection_single(fields=['column'], bind=select_box, init={'column': 'MONTH'})\n",
    "\n",
    "alt.Chart(df).mark_line().transform_fold(\n",
    "    times,\n",
    "    as_=['column', 'value']\n",
    ").transform_filter(\n",
    "    sel\n",
    ").encode(\n",
    "    alt.X('MONTH:O', type = 'ordinal'),\n",
    "    alt.Y('count():Q')\n",
    ").add_selection(\n",
    "    sel\n",
    ")\n",
    "\n",
    "sel"
   ]
  },
  {
   "cell_type": "code",
   "execution_count": 11,
   "id": "b395d2b0-07ff-4794-8304-ee209b39bf18",
   "metadata": {},
   "outputs": [
    {
     "ename": "AttributeError",
     "evalue": "module 'altair' has no attribute 'param'",
     "output_type": "error",
     "traceback": [
      "\u001b[0;31m---------------------------------------------------------------------------\u001b[0m",
      "\u001b[0;31mAttributeError\u001b[0m                            Traceback (most recent call last)",
      "Cell \u001b[0;32mIn[11], line 1\u001b[0m\n\u001b[0;32m----> 1\u001b[0m xcol_param \u001b[38;5;241m=\u001b[39m \u001b[43malt\u001b[49m\u001b[38;5;241;43m.\u001b[39;49m\u001b[43mparam\u001b[49m(value \u001b[38;5;241m=\u001b[39m \u001b[38;5;124m'\u001b[39m\u001b[38;5;124mMONTH\u001b[39m\u001b[38;5;124m'\u001b[39m, bind \u001b[38;5;241m=\u001b[39m select_box)\n\u001b[1;32m      3\u001b[0m alt\u001b[38;5;241m.\u001b[39mChart(df)\u001b[38;5;241m.\u001b[39mmark_line(\n\u001b[1;32m      4\u001b[0m )\u001b[38;5;241m.\u001b[39mencode(\n\u001b[1;32m      5\u001b[0m     alt\u001b[38;5;241m.\u001b[39mX(\u001b[38;5;124m'\u001b[39m\u001b[38;5;124mMONTH:O\u001b[39m\u001b[38;5;124m'\u001b[39m, \u001b[38;5;28mtype\u001b[39m \u001b[38;5;241m=\u001b[39m \u001b[38;5;124m'\u001b[39m\u001b[38;5;124mordinal\u001b[39m\u001b[38;5;124m'\u001b[39m),\n\u001b[0;32m   (...)\u001b[0m\n\u001b[1;32m     10\u001b[0m     xcol_param\n\u001b[1;32m     11\u001b[0m )\n",
      "\u001b[0;31mAttributeError\u001b[0m: module 'altair' has no attribute 'param'"
     ]
    }
   ],
   "source": [
    "xcol_param = alt.param(value = 'MONTH', bind = select_box)\n",
    "\n",
    "alt.Chart(df).mark_line(\n",
    ").encode(\n",
    "    alt.X('MONTH:O', type = 'ordinal'),\n",
    "    alt.Y('count():Q')\n",
    ").transform_calculate(\n",
    "    x=f'datum[{xcol_param.name}]'\n",
    ").add_params(\n",
    "    xcol_param\n",
    ")"
   ]
  },
  {
   "cell_type": "code",
   "execution_count": 12,
   "id": "0979ae7b-378b-47f5-9503-0ef1c407df6c",
   "metadata": {},
   "outputs": [],
   "source": [
    "neighbours = df['NEIGHBOURHOOD'].unique() # get unique field values\n",
    "neighbours = list(filter(lambda d: d is not None, neighbours)) # filter out None values\n",
    "neighbours.sort() # sort alphabetically"
   ]
  },
  {
   "cell_type": "code",
   "execution_count": 13,
   "id": "1e5a83d3-ff0b-4c41-b0f5-3afe6ff97fe2",
   "metadata": {},
   "outputs": [
    {
     "data": {
      "application/vnd.vegalite.v4+json": {
       "$schema": "https://vega.github.io/schema/vega-lite/v4.17.0.json",
       "config": {
        "view": {
         "continuousHeight": 300,
         "continuousWidth": 400
        }
       },
       "data": {
        "url": "http://localhost:62432/744fbb122af092bdf627f7060ea666d0.json"
       },
       "encoding": {
        "opacity": {
         "condition": {
          "selection": "Select",
          "value": 1
         },
         "value": 0.05
        },
        "x": {
         "field": "NEIGHBOURHOOD",
         "type": "nominal"
        },
        "y": {
         "aggregate": "count",
         "type": "quantitative"
        }
       },
       "mark": "bar",
       "selection": {
        "Select": {
         "bind": {
          "input": "select",
          "options": [
           "Central Business District",
           "Fairview",
           "Hastings-Sunrise",
           "Renfrew-Collingwood",
           "Strathcona",
           "Victoria-Fraserview"
          ]
         },
         "fields": [
          "NEIGHBOURHOOD"
         ],
         "init": {
          "NEIGHBOURHOOD": "Central Business District"
         },
         "type": "single"
        }
       }
      },
      "image/png": "[encoded data removed]",
      "text/plain": [
       "<VegaLite 4 object>\n",
       "\n",
       "If you see this message, it means the renderer has not been properly enabled\n",
       "for the frontend that you are using. For more information, see\n",
       "https://altair-viz.github.io/user_guide/troubleshooting.html\n"
      ]
     },
     "execution_count": 13,
     "metadata": {},
     "output_type": "execute_result"
    }
   ],
   "source": [
    "# selectNeighbour = alt.selection_single(\n",
    "#     name='Select', # name the selection 'Select'\n",
    "#     fields=['NEIGHBOURHOOD'], # limit selection to the Major_Genre field\n",
    "#     init={'NEIGHBOURHOOD': neighbours[0]}, # use first genre entry as initial value\n",
    "#     bind=alt.binding_select(options=neighbours) # bind to a menu of unique genre values\n",
    "# )\n",
    "\n",
    "# alt.Chart(df).mark_bar().add_selection(\n",
    "#     selectNeighbour\n",
    "# ).encode(\n",
    "#     x='NEIGHBOURHOOD:N',\n",
    "#     y='count():Q',\n",
    "#     opacity=alt.condition(selectNeighbour, alt.value(1), alt.value(0.05))\n",
    "# )"
   ]
  },
  {
   "cell_type": "code",
   "execution_count": 14,
   "id": "2ae136b8-aa23-45a3-a75b-589873a9a2e1",
   "metadata": {},
   "outputs": [
    {
     "data": {
      "application/vnd.vegalite.v4+json": {
       "$schema": "https://vega.github.io/schema/vega-lite/v4.17.0.json",
       "config": {
        "axis": {
         "grid": false
        },
        "view": {
         "continuousHeight": 300,
         "continuousWidth": 400
        }
       },
       "data": {
        "url": "http://localhost:62432/744fbb122af092bdf627f7060ea666d0.json"
       },
       "encoding": {
        "color": {
         "field": "NEIGHBOURHOOD",
         "scale": {
          "scheme": "purpleorange"
         },
         "type": "nominal"
        },
        "x": {
         "field": "NEIGHBOURHOOD",
         "sort": "-y",
         "type": "nominal"
        },
        "y": {
         "aggregate": "count",
         "type": "quantitative"
        }
       },
       "height": 275,
       "mark": "bar",
       "width": 300
      },
      "image/png": "[encoded data removed]",
      "text/plain": [
       "<VegaLite 4 object>\n",
       "\n",
       "If you see this message, it means the renderer has not been properly enabled\n",
       "for the frontend that you are using. For more information, see\n",
       "https://altair-viz.github.io/user_guide/troubleshooting.html\n"
      ]
     },
     "execution_count": 14,
     "metadata": {},
     "output_type": "execute_result"
    }
   ],
   "source": [
    "crime_type_count_bar = alt.Chart(df).mark_bar().encode(    \n",
    "    alt.X(\"NEIGHBOURHOOD\", sort = '-y'),\n",
    "    alt.Y(\"count()\"),\n",
    "    alt.Color('NEIGHBOURHOOD', scale=alt.Scale(scheme='purpleorange')),\n",
    "    #alt.Tooltip('TYPE')\n",
    ").properties(\n",
    "    height = 275,\n",
    "    width = 300\n",
    ").configure_axis(\n",
    "    grid = False\n",
    ")\n",
    "crime_type_count_bar"
   ]
  },
  {
   "cell_type": "code",
   "execution_count": 15,
   "id": "3ca41653-5532-465d-9600-4c066b9f5a17",
   "metadata": {},
   "outputs": [
    {
     "data": {
      "text/html": [
       "<div>\n",
       "<style scoped>\n",
       "    .dataframe tbody tr th:only-of-type {\n",
       "        vertical-align: middle;\n",
       "    }\n",
       "\n",
       "    .dataframe tbody tr th {\n",
       "        vertical-align: top;\n",
       "    }\n",
       "\n",
       "    .dataframe thead th {\n",
       "        text-align: right;\n",
       "    }\n",
       "</style>\n",
       "<table border=\"1\" class=\"dataframe\">\n",
       "  <thead>\n",
       "    <tr style=\"text-align: right;\">\n",
       "      <th></th>\n",
       "      <th>TYPE</th>\n",
       "      <th>YEAR</th>\n",
       "      <th>MONTH</th>\n",
       "      <th>DAY</th>\n",
       "      <th>HOUR</th>\n",
       "      <th>MINUTE</th>\n",
       "      <th>HUNDRED_BLOCK</th>\n",
       "      <th>NEIGHBOURHOOD</th>\n",
       "      <th>X</th>\n",
       "      <th>Y</th>\n",
       "      <th>DATE</th>\n",
       "      <th>Income</th>\n",
       "    </tr>\n",
       "  </thead>\n",
       "  <tbody>\n",
       "    <tr>\n",
       "      <th>0</th>\n",
       "      <td>Theft from Vehicle</td>\n",
       "      <td>2022</td>\n",
       "      <td>1</td>\n",
       "      <td>29</td>\n",
       "      <td>9</td>\n",
       "      <td>30</td>\n",
       "      <td>19XX W GEORGIA ST</td>\n",
       "      <td>Central Business District</td>\n",
       "      <td>490079.3981</td>\n",
       "      <td>5.460210e+06</td>\n",
       "      <td>2022-01-29</td>\n",
       "      <td>53574.0</td>\n",
       "    </tr>\n",
       "    <tr>\n",
       "      <th>1</th>\n",
       "      <td>Theft from Vehicle</td>\n",
       "      <td>2022</td>\n",
       "      <td>1</td>\n",
       "      <td>29</td>\n",
       "      <td>13</td>\n",
       "      <td>30</td>\n",
       "      <td>19XX W GEORGIA ST</td>\n",
       "      <td>Central Business District</td>\n",
       "      <td>490079.3981</td>\n",
       "      <td>5.460210e+06</td>\n",
       "      <td>2022-01-29</td>\n",
       "      <td>53574.0</td>\n",
       "    </tr>\n",
       "    <tr>\n",
       "      <th>2</th>\n",
       "      <td>Theft from Vehicle</td>\n",
       "      <td>2022</td>\n",
       "      <td>2</td>\n",
       "      <td>4</td>\n",
       "      <td>13</td>\n",
       "      <td>0</td>\n",
       "      <td>19XX W GEORGIA ST</td>\n",
       "      <td>Central Business District</td>\n",
       "      <td>490079.3981</td>\n",
       "      <td>5.460210e+06</td>\n",
       "      <td>2022-02-04</td>\n",
       "      <td>53574.0</td>\n",
       "    </tr>\n",
       "    <tr>\n",
       "      <th>3</th>\n",
       "      <td>Theft from Vehicle</td>\n",
       "      <td>2022</td>\n",
       "      <td>2</td>\n",
       "      <td>20</td>\n",
       "      <td>14</td>\n",
       "      <td>0</td>\n",
       "      <td>19XX W GEORGIA ST</td>\n",
       "      <td>Central Business District</td>\n",
       "      <td>490079.3981</td>\n",
       "      <td>5.460210e+06</td>\n",
       "      <td>2022-02-20</td>\n",
       "      <td>53574.0</td>\n",
       "    </tr>\n",
       "    <tr>\n",
       "      <th>4</th>\n",
       "      <td>Theft from Vehicle</td>\n",
       "      <td>2022</td>\n",
       "      <td>4</td>\n",
       "      <td>5</td>\n",
       "      <td>13</td>\n",
       "      <td>0</td>\n",
       "      <td>19XX W GEORGIA ST</td>\n",
       "      <td>Central Business District</td>\n",
       "      <td>490079.3981</td>\n",
       "      <td>5.460210e+06</td>\n",
       "      <td>2022-04-05</td>\n",
       "      <td>53574.0</td>\n",
       "    </tr>\n",
       "    <tr>\n",
       "      <th>...</th>\n",
       "      <td>...</td>\n",
       "      <td>...</td>\n",
       "      <td>...</td>\n",
       "      <td>...</td>\n",
       "      <td>...</td>\n",
       "      <td>...</td>\n",
       "      <td>...</td>\n",
       "      <td>...</td>\n",
       "      <td>...</td>\n",
       "      <td>...</td>\n",
       "      <td>...</td>\n",
       "      <td>...</td>\n",
       "    </tr>\n",
       "    <tr>\n",
       "      <th>55393</th>\n",
       "      <td>Theft from Vehicle</td>\n",
       "      <td>2022</td>\n",
       "      <td>2</td>\n",
       "      <td>8</td>\n",
       "      <td>16</td>\n",
       "      <td>45</td>\n",
       "      <td>17XX GLEN DR</td>\n",
       "      <td>Strathcona</td>\n",
       "      <td>494082.1971</td>\n",
       "      <td>5.457439e+06</td>\n",
       "      <td>2022-02-08</td>\n",
       "      <td>22542.0</td>\n",
       "    </tr>\n",
       "    <tr>\n",
       "      <th>55394</th>\n",
       "      <td>Theft from Vehicle</td>\n",
       "      <td>2022</td>\n",
       "      <td>3</td>\n",
       "      <td>8</td>\n",
       "      <td>22</td>\n",
       "      <td>40</td>\n",
       "      <td>17XX GLEN DR</td>\n",
       "      <td>Strathcona</td>\n",
       "      <td>494082.1971</td>\n",
       "      <td>5.457439e+06</td>\n",
       "      <td>2022-03-08</td>\n",
       "      <td>22542.0</td>\n",
       "    </tr>\n",
       "    <tr>\n",
       "      <th>55395</th>\n",
       "      <td>Theft from Vehicle</td>\n",
       "      <td>2022</td>\n",
       "      <td>5</td>\n",
       "      <td>1</td>\n",
       "      <td>0</td>\n",
       "      <td>0</td>\n",
       "      <td>17XX GLEN DR</td>\n",
       "      <td>Strathcona</td>\n",
       "      <td>494082.6659</td>\n",
       "      <td>5.457406e+06</td>\n",
       "      <td>2022-05-01</td>\n",
       "      <td>22542.0</td>\n",
       "    </tr>\n",
       "    <tr>\n",
       "      <th>55396</th>\n",
       "      <td>Theft from Vehicle</td>\n",
       "      <td>2022</td>\n",
       "      <td>5</td>\n",
       "      <td>17</td>\n",
       "      <td>0</td>\n",
       "      <td>18</td>\n",
       "      <td>18XX CLARK DR</td>\n",
       "      <td>Strathcona</td>\n",
       "      <td>494366.0040</td>\n",
       "      <td>5.457253e+06</td>\n",
       "      <td>2022-05-17</td>\n",
       "      <td>22542.0</td>\n",
       "    </tr>\n",
       "    <tr>\n",
       "      <th>55397</th>\n",
       "      <td>Theft from Vehicle</td>\n",
       "      <td>2022</td>\n",
       "      <td>6</td>\n",
       "      <td>14</td>\n",
       "      <td>5</td>\n",
       "      <td>11</td>\n",
       "      <td>18XX CLARK DR</td>\n",
       "      <td>Strathcona</td>\n",
       "      <td>494366.0040</td>\n",
       "      <td>5.457253e+06</td>\n",
       "      <td>2022-06-14</td>\n",
       "      <td>22542.0</td>\n",
       "    </tr>\n",
       "  </tbody>\n",
       "</table>\n",
       "<p>55398 rows × 12 columns</p>\n",
       "</div>"
      ],
      "text/plain": [
       "                     TYPE  YEAR  MONTH  DAY  HOUR  MINUTE      HUNDRED_BLOCK  \\\n",
       "0      Theft from Vehicle  2022      1   29     9      30  19XX W GEORGIA ST   \n",
       "1      Theft from Vehicle  2022      1   29    13      30  19XX W GEORGIA ST   \n",
       "2      Theft from Vehicle  2022      2    4    13       0  19XX W GEORGIA ST   \n",
       "3      Theft from Vehicle  2022      2   20    14       0  19XX W GEORGIA ST   \n",
       "4      Theft from Vehicle  2022      4    5    13       0  19XX W GEORGIA ST   \n",
       "...                   ...   ...    ...  ...   ...     ...                ...   \n",
       "55393  Theft from Vehicle  2022      2    8    16      45       17XX GLEN DR   \n",
       "55394  Theft from Vehicle  2022      3    8    22      40       17XX GLEN DR   \n",
       "55395  Theft from Vehicle  2022      5    1     0       0       17XX GLEN DR   \n",
       "55396  Theft from Vehicle  2022      5   17     0      18      18XX CLARK DR   \n",
       "55397  Theft from Vehicle  2022      6   14     5      11      18XX CLARK DR   \n",
       "\n",
       "                   NEIGHBOURHOOD            X             Y       DATE  \\\n",
       "0      Central Business District  490079.3981  5.460210e+06 2022-01-29   \n",
       "1      Central Business District  490079.3981  5.460210e+06 2022-01-29   \n",
       "2      Central Business District  490079.3981  5.460210e+06 2022-02-04   \n",
       "3      Central Business District  490079.3981  5.460210e+06 2022-02-20   \n",
       "4      Central Business District  490079.3981  5.460210e+06 2022-04-05   \n",
       "...                          ...          ...           ...        ...   \n",
       "55393                 Strathcona  494082.1971  5.457439e+06 2022-02-08   \n",
       "55394                 Strathcona  494082.1971  5.457439e+06 2022-03-08   \n",
       "55395                 Strathcona  494082.6659  5.457406e+06 2022-05-01   \n",
       "55396                 Strathcona  494366.0040  5.457253e+06 2022-05-17   \n",
       "55397                 Strathcona  494366.0040  5.457253e+06 2022-06-14   \n",
       "\n",
       "        Income  \n",
       "0      53574.0  \n",
       "1      53574.0  \n",
       "2      53574.0  \n",
       "3      53574.0  \n",
       "4      53574.0  \n",
       "...        ...  \n",
       "55393  22542.0  \n",
       "55394  22542.0  \n",
       "55395  22542.0  \n",
       "55396  22542.0  \n",
       "55397  22542.0  \n",
       "\n",
       "[55398 rows x 12 columns]"
      ]
     },
     "execution_count": 15,
     "metadata": {},
     "output_type": "execute_result"
    }
   ],
   "source": [
    "#join median income column to df\n",
    "\n",
    "# extracted_income = df2['Median Household Income After Taxes']\n",
    "# df_w_income = df.join(extracted_income)\n",
    "d = {}\n",
    "for index, row in df2.iterrows():\n",
    "    d[row['Neighborhood']] = row['Median Household Income After Taxes']\n",
    "    # print(row['Neighborhood'])\n",
    "\n",
    "df['Income'] = df.apply(lambda x: d[x['NEIGHBOURHOOD']], axis = 1)\n",
    "df"
   ]
  },
  {
   "cell_type": "code",
   "execution_count": 16,
   "id": "083d1b47-e0ec-4061-ba97-fe4957e16abc",
   "metadata": {},
   "outputs": [
    {
     "data": {
      "application/vnd.vegalite.v4+json": {
       "$schema": "https://vega.github.io/schema/vega-lite/v4.17.0.json",
       "config": {
        "axis": {
         "grid": false
        },
        "view": {
         "continuousHeight": 300,
         "continuousWidth": 400,
         "strokeWidth": 0
        }
       },
       "data": {
        "url": "http://localhost:62432/1faee9c4409f0d522e185255e0b01149.json"
       },
       "encoding": {
        "color": {
         "field": "TYPE",
         "scale": {
          "scheme": "purpleorange"
         },
         "type": "nominal"
        },
        "size": {
         "aggregate": "count",
         "scale": {
          "range": [
           10,
           500
          ]
         },
         "type": "quantitative"
        },
        "tooltip": {
         "field": "Income",
         "type": "quantitative"
        },
        "x": {
         "axis": null,
         "field": "Income",
         "type": "quantitative"
        },
        "y": {
         "aggregate": "count",
         "axis": null,
         "type": "quantitative"
        }
       },
       "height": 300,
       "mark": "circle",
       "width": 350
      },
      "image/png": "[encoded data removed]",
      "text/plain": [
       "<VegaLite 4 object>\n",
       "\n",
       "If you see this message, it means the renderer has not been properly enabled\n",
       "for the frontend that you are using. For more information, see\n",
       "https://altair-viz.github.io/user_guide/troubleshooting.html\n"
      ]
     },
     "execution_count": 16,
     "metadata": {},
     "output_type": "execute_result"
    }
   ],
   "source": [
    "crime_bubble = alt.Chart(df).mark_circle().encode(    \n",
    "    alt.X(\"Income\", axis = None),\n",
    "    alt.Y(\"count()\", axis = None),\n",
    "    alt.Color('TYPE', scale=alt.Scale(scheme='purpleorange')),\n",
    "    alt.Tooltip('Income'),\n",
    "    alt.Size(\"count()\", scale=alt.Scale(range=[10, 500]))\n",
    ").configure_axis(\n",
    "    grid = False\n",
    ").configure_view(\n",
    "    strokeWidth = 0\n",
    ").properties(\n",
    "    height = 300,\n",
    "    width = 350\n",
    ")\n",
    "crime_bubble"
   ]
  },
  {
   "cell_type": "code",
   "execution_count": null,
   "id": "5cff4ae5-0325-43c8-91fe-b8c6540a80db",
   "metadata": {},
   "outputs": [],
   "source": []
  }
 ],
 "metadata": {
  "kernelspec": {
   "display_name": "Python 3 (ipykernel)",
   "language": "python",
   "name": "python3"
  },
  "language_info": {
   "codemirror_mode": {
    "name": "ipython",
    "version": 3
   },
   "file_extension": ".py",
   "mimetype": "text/x-python",
   "name": "python",
   "nbconvert_exporter": "python",
   "pygments_lexer": "ipython3",
   "version": "3.9.15"
  }
 },
 "nbformat": 4,
 "nbformat_minor": 5
}
