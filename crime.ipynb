{
 "cells": [
  {
   "cell_type": "code",
   "execution_count": 1,
   "id": "8fa4d03d-ee60-4160-97b0-f3640dab1987",
   "metadata": {},
   "outputs": [],
   "source": [
    "import glob\n",
    "import os\n",
    "import pandas as pd\n",
    "import altair as alt\n",
    "import calendar\n",
    "import datetime\n",
    "from altair import pipe, limit_rows, to_values"
   ]
  },
  {
   "cell_type": "code",
   "execution_count": 2,
   "id": "8e523208-05b5-4ecc-9a50-cb6e4530ed94",
   "metadata": {},
   "outputs": [],
   "source": [
    "# # Set the directory where the CSV files are located\n",
    "# dir_path = \".\"\n",
    "\n",
    "# # Get all the CSV files in the directory\n",
    "# all_files = glob.glob(os.path.join(dir_path, \"*.csv\"))\n",
    "\n",
    "# # Combine the CSV files into a single DataFrame\n",
    "# df = pd.concat((pd.read_csv(f) for f in all_files))\n",
    "\n",
    "# # Save the combined DataFrame to a new CSV file\n",
    "# df.to_csv(\"combined.csv\", index=False)"
   ]
  },
  {
   "cell_type": "markdown",
   "id": "3f58482b-1e36-4ca4-a7b4-40cd55290230",
   "metadata": {},
   "source": [
    "# VPD Crime + CMHC Income Analysis\n",
    "\n",
    "By: Benjamin Chang, Sandra Radic, and Justin Kung\n",
    "\n",
    "## Abstract\n",
    "\n",
    "The project includes analyzing the Vancouver Crime dataset, which contains information on crime types, location, date, and time, as well as demographic data from the Vancouver 2016 census dataset."
   ]
  },
  {
   "cell_type": "markdown",
   "id": "06a12791-5bee-41ae-990e-e38a4d5a2399",
   "metadata": {},
   "source": [
    "## Data Abstraction\n",
    "\n",
    "The [VPD Crime dataset](https://geodash.vpd.ca/opendata/) contains crime occurrence data that takes place in neighbourhoods patrolled by the Vancouver Police Department. It contains information on crime type, location (hundred block, neighbourhood), date (year, month, day), time (hour, minute, second), and polar coordinates (latitude, longitude) of each occurrence. To supplement our analysis of the crime dataset, we have also sourced neighbourhood median and average income data from the [Canada Mortgage and Housing Corporation dataset](https://www03.cmhc-schl.gc.ca/hmip-pimh/en/TableMapChart/TableMatchingCriteria?GeographyType=MetropolitanMajorArea&GeographyId=2410&CategoryLevel1=Population%2C%20Households%20and%20Housing%20Stock&CategoryLevel2=Household%20Income&ColumnField=HouseholdIncomeRange&RowField=Neighbourhood&SearchTags%5B0%5D.Key=Households&SearchTags%5B0%5D.Value=Number&SearchTags%5B1%5D.Key=Statistics&SearchTags%5B1%5D.Value=AverageAndMedian).\n",
    "\n",
    "Overall, the data includes: <br>\n",
    "1. Neighborhood - nominal. Each observation belongs to one neighborhood (one-to-one). Each neighborhood is a label for a specific geographic area in Greater Vancouver.\n",
    "2. Hundred block - nominal. Each observation belongs to one hundred block (one-to-one). It indicates the block number where a crime was reported.\n",
    "3. Latitude, Longitude (X, Y) - quantitative. Each observation contains one latitude and one longitude value (one-to-one), which each represent a numerical measurements of geographic coordinates. These variables are continuous and can take on any value within a certain range, with each value indicating a specific location.\n",
    "4. Date (Year, Month, Day) - nominal. Each observation contains one year, one month, and one day value (one-to-one). These variables have interdependent cardinalities within them, as a year has many months, and a month has many days. However, as observations within the dataset they may be collated into a singular DATE variable which has a one-to-one cardinality with each occurrence. The DATE variable marks the exact day, month, and year that the crime was reported.\n",
    "5. Hour, Minute, Second - ordinal. Each variable represents a specific point in time (one-to-one). Similarly to the Date variable, these variables have interdependent cardinalities, but can be aggregated and worked with independently of each other.\n",
    "6. Crime Type (Type) - nominal. Each observation has exactly one 'Type' (one-to-one). The crime type variable is a categorical variable that indicates the type of crime that was reported. Similar to the neighborhood and hundred block variables, this is a nominal variable with no inherent order or ranking. Each observation is simply classified according to a specific crime category.\n",
    "7. Average Household Income After Taxes - quantitative. Each observation has exactly one average income as the dataset provides it as an aggregate (one-to-one). It is a quantitative variable, however it is static which means that we only have singular values for each neighbourhood - and can not chart or infer temporal information from it. It is a singular value that shows the average household income of each neighbourhood (therefore it will be explored in the multivariate EDA section).\n",
    "8. Median Household Income After Taxes - quantitative. Similar to the average household income after taxes with regards to cardinality and semantics, but less pertinent to skewing to high values (abnormally high incomes skew the average value), median household income may serve as a more realistic representation of the majority."
   ]
  },
  {
   "cell_type": "code",
   "execution_count": 3,
   "id": "5a372400-aa14-4174-b7c6-25b32581c78c",
   "metadata": {},
   "outputs": [],
   "source": [
    "# Read in the data\n",
    "url = 'https://raw.githubusercontent.com/sgskung/crime320/main/combined.csv'\n",
    "df = pd.read_csv(url)"
   ]
  },
  {
   "cell_type": "code",
   "execution_count": 4,
   "id": "2192e3be-d609-42ff-ac07-ad1993cd58ad",
   "metadata": {},
   "outputs": [],
   "source": [
    "# Creating necessary variables\n",
    "df['DATE'] = pd.to_datetime(df[['YEAR', 'MONTH', 'DAY']])"
   ]
  },
  {
   "cell_type": "code",
   "execution_count": 5,
   "id": "f143b48b-10ec-4ec5-b7a3-a13a356f726f",
   "metadata": {},
   "outputs": [
    {
     "data": {
      "text/plain": [
       "DataTransformerRegistry.enable('custom')"
      ]
     },
     "execution_count": 5,
     "metadata": {},
     "output_type": "execute_result"
    }
   ],
   "source": [
    "# Change the max_rows limit of altair because our dataset is 55,000 rows.\n",
    "t = lambda data: pipe(data, limit_rows(max_rows=60000), to_values)\n",
    "alt.data_transformers.register('custom', t)\n",
    "alt.data_transformers.enable('custom')"
   ]
  },
  {
   "cell_type": "code",
   "execution_count": 64,
   "id": "292eb472-b4d0-434a-949e-4053ab3d1bb0",
   "metadata": {},
   "outputs": [],
   "source": [
    "# Transforming the supplemental income dataset to correspond to each neighbourhood in our analysis.\n",
    "\n",
    "dfinc = pd.read_csv('incomes.csv', header=0, index_col=0)\n",
    "dfinc = dfinc[0:2]\n",
    "\n",
    "dfinc['Central Business District'] = dfinc[['Downtown North', 'Downtown Central', 'Downtown']].apply(lambda x: x.mean(), axis=1)\n",
    "dfinc = dfinc.drop(columns=['Downtown North', 'Downtown Central', 'Downtown'])\n",
    "\n",
    "dfinc['Strathcona'] = dfinc[['Downtown Eastside/Strathcona']].apply(lambda x: x.mean(), axis=1)\n",
    "dfinc = dfinc.drop(columns=['Downtown Eastside/Strathcona'])\n",
    "\n",
    "dfinc['Hastings-Sunrise'] = dfinc[['Hastings/Sunrise/Grandview/Woodlands']].apply(lambda x: x.mean(), axis=1)\n",
    "dfinc = dfinc.drop(columns=['Hastings/Sunrise/Grandview/Woodlands'])\n",
    "\n",
    "dfinc['Renfrew-Collingwood'] = dfinc[['Collingwood', 'Renfrew']].apply(lambda x: x.mean(), axis=1)\n",
    "dfinc = dfinc.drop(columns=['Collingwood', 'Renfrew'])\n",
    "\n",
    "dfinc['Victoria-Fraserview'] = dfinc[['Fraser View/Killarny']].apply(lambda x: x.mean(), axis=1)\n",
    "dfinc = dfinc.drop(columns=['Fraser View/Killarny'])\n",
    "\n",
    "dfinc['Fairview'] = dfinc[['South Granville']].apply(lambda x: x.mean(), axis=1)\n",
    "dfinc = dfinc.drop(columns=['South Granville'])\n",
    "\n",
    "# list of columns to keep\n",
    "keep_cols = ['Central Business District', 'Strathcona', 'Hastings-Sunrise', 'Renfrew-Collingwood', 'Victoria-Fraserview', 'Fairview']\n",
    "\n",
    "# list of columns to drop\n",
    "drop_cols = list(set(dfinc.columns) - set(keep_cols))\n",
    "\n",
    "# drop the columns from the dataframe\n",
    "dfinc = dfinc.drop(columns=drop_cols)\n",
    "\n",
    "# round the values to 2 decimal places\n",
    "dfinc = dfinc.apply(lambda x: x.round(2), axis=1)\n",
    "\n",
    "dfinc = dfinc.T"
   ]
  },
  {
   "cell_type": "markdown",
   "id": "3b463030-04d9-4bf8-ad29-6ed665753d08",
   "metadata": {},
   "source": [
    "## Exploratory Data Analysis"
   ]
  },
  {
   "cell_type": "markdown",
   "id": "e4ef6803-b2f0-4ebf-9e29-986b2f3e71f7",
   "metadata": {},
   "source": [
    "### Univariate Summaries\n",
    "We first create univariate summaries of each variable in our dataset. Latitude and Longitude are skipped over as they are all relatively the same (all crimes take place in the Vancouver-Downtown/Vancouver-East geographic space, and neighbourhood/hundred-block serves a more intuitive purpose for our analysis. Furthermore, as most of our variables are nominal, the following univariate summaries will be bar charts, grouped numerical summaries, and line charts for temporal information (year, hour, etc.)."
   ]
  },
  {
   "cell_type": "code",
   "execution_count": 56,
   "id": "045c3257-f589-401b-bbdd-173ad4a2477e",
   "metadata": {},
   "outputs": [
    {
     "data": {
      "text/html": [
       "<div>\n",
       "<style scoped>\n",
       "    .dataframe tbody tr th:only-of-type {\n",
       "        vertical-align: middle;\n",
       "    }\n",
       "\n",
       "    .dataframe tbody tr th {\n",
       "        vertical-align: top;\n",
       "    }\n",
       "\n",
       "    .dataframe thead th {\n",
       "        text-align: right;\n",
       "    }\n",
       "</style>\n",
       "<table border=\"1\" class=\"dataframe\">\n",
       "  <thead>\n",
       "    <tr style=\"text-align: right;\">\n",
       "      <th></th>\n",
       "      <th>YEAR</th>\n",
       "      <th>MONTH</th>\n",
       "      <th>DAY</th>\n",
       "      <th>HOUR</th>\n",
       "      <th>MINUTE</th>\n",
       "    </tr>\n",
       "  </thead>\n",
       "  <tbody>\n",
       "    <tr>\n",
       "      <th>count</th>\n",
       "      <td>55,398.00</td>\n",
       "      <td>55,398.00</td>\n",
       "      <td>55,398.00</td>\n",
       "      <td>55,398.00</td>\n",
       "      <td>55,398.00</td>\n",
       "    </tr>\n",
       "    <tr>\n",
       "      <th>mean</th>\n",
       "      <td>2,020.98</td>\n",
       "      <td>6.40</td>\n",
       "      <td>15.23</td>\n",
       "      <td>11.24</td>\n",
       "      <td>17.59</td>\n",
       "    </tr>\n",
       "    <tr>\n",
       "      <th>std</th>\n",
       "      <td>0.83</td>\n",
       "      <td>3.48</td>\n",
       "      <td>8.71</td>\n",
       "      <td>7.57</td>\n",
       "      <td>18.89</td>\n",
       "    </tr>\n",
       "    <tr>\n",
       "      <th>min</th>\n",
       "      <td>2,020.00</td>\n",
       "      <td>1.00</td>\n",
       "      <td>1.00</td>\n",
       "      <td>0.00</td>\n",
       "      <td>0.00</td>\n",
       "    </tr>\n",
       "    <tr>\n",
       "      <th>25%</th>\n",
       "      <td>2,020.00</td>\n",
       "      <td>3.00</td>\n",
       "      <td>8.00</td>\n",
       "      <td>4.00</td>\n",
       "      <td>0.00</td>\n",
       "    </tr>\n",
       "    <tr>\n",
       "      <th>50%</th>\n",
       "      <td>2,021.00</td>\n",
       "      <td>7.00</td>\n",
       "      <td>15.00</td>\n",
       "      <td>12.00</td>\n",
       "      <td>12.00</td>\n",
       "    </tr>\n",
       "    <tr>\n",
       "      <th>75%</th>\n",
       "      <td>2,022.00</td>\n",
       "      <td>9.00</td>\n",
       "      <td>23.00</td>\n",
       "      <td>18.00</td>\n",
       "      <td>30.00</td>\n",
       "    </tr>\n",
       "    <tr>\n",
       "      <th>max</th>\n",
       "      <td>2,022.00</td>\n",
       "      <td>12.00</td>\n",
       "      <td>31.00</td>\n",
       "      <td>23.00</td>\n",
       "      <td>59.00</td>\n",
       "    </tr>\n",
       "  </tbody>\n",
       "</table>\n",
       "</div>"
      ],
      "text/plain": [
       "            YEAR      MONTH        DAY       HOUR     MINUTE\n",
       "count  55,398.00  55,398.00  55,398.00  55,398.00  55,398.00\n",
       "mean    2,020.98       6.40      15.23      11.24      17.59\n",
       "std         0.83       3.48       8.71       7.57      18.89\n",
       "min     2,020.00       1.00       1.00       0.00       0.00\n",
       "25%     2,020.00       3.00       8.00       4.00       0.00\n",
       "50%     2,021.00       7.00      15.00      12.00      12.00\n",
       "75%     2,022.00       9.00      23.00      18.00      30.00\n",
       "max     2,022.00      12.00      31.00      23.00      59.00"
      ]
     },
     "execution_count": 56,
     "metadata": {},
     "output_type": "execute_result"
    }
   ],
   "source": [
    "df = df.drop(columns=['X', 'Y'])\n",
    "df.describe().applymap('{:,.2f}'.format)"
   ]
  },
  {
   "cell_type": "markdown",
   "id": "8045bd6b-3786-47d1-8c93-00d982f4fac8",
   "metadata": {},
   "source": [
    "**Neighbourhood and Hundred Block**"
   ]
  },
  {
   "cell_type": "code",
   "execution_count": 8,
   "id": "cc5e3c7b-943e-4929-aa45-7104b9896ded",
   "metadata": {},
   "outputs": [
    {
     "name": "stdout",
     "output_type": "stream",
     "text": [
      "NEIGHBOURHOOD\n",
      "Central Business District    30086\n",
      "Strathcona                    8090\n",
      "Renfrew-Collingwood           6570\n",
      "Fairview                      5387\n",
      "Hastings-Sunrise              3411\n",
      "Victoria-Fraserview           1854\n",
      "dtype: int64\n"
     ]
    }
   ],
   "source": [
    "# Count of crimes by neighbourhood\n",
    "print(df.groupby('NEIGHBOURHOOD').size().sort_values(ascending=False))"
   ]
  },
  {
   "cell_type": "code",
   "execution_count": 10,
   "id": "202e6120-9dc7-4ae8-97d4-435fe59ce5de",
   "metadata": {},
   "outputs": [
    {
     "name": "stderr",
     "output_type": "stream",
     "text": [
      "/Users/justin/miniforge3/lib/python3.10/site-packages/altair/utils/data.py:226: AltairDeprecationWarning: alt.pipe() is deprecated, and will be removed in a future release. Use toolz.curried.pipe() instead.\n",
      "  warnings.warn(\n",
      "/Users/justin/miniforge3/lib/python3.10/site-packages/altair/utils/core.py:283: FutureWarning: iteritems is deprecated and will be removed in a future version. Use .items instead.\n",
      "  for col_name, dtype in df.dtypes.iteritems():\n"
     ]
    },
    {
     "data": {
      "text/html": [
       "\n",
       "<div id=\"altair-viz-6c1f6c41727b455da60cf7410e0f49e6\"></div>\n",
       "<script type=\"text/javascript\">\n",
       "  (function(spec, embedOpt){\n",
       "    let outputDiv = document.currentScript.previousElementSibling;\n",
       "    if (outputDiv.id !== \"altair-viz-6c1f6c41727b455da60cf7410e0f49e6\") {\n",
       "      outputDiv = document.getElementById(\"altair-viz-6c1f6c41727b455da60cf7410e0f49e6\");\n",
       "    }\n",
       "    const paths = {\n",
       "      \"vega\": \"https://cdn.jsdelivr.net/npm//vega@5?noext\",\n",
       "      \"vega-lib\": \"https://cdn.jsdelivr.net/npm//vega-lib?noext\",\n",
       "      \"vega-lite\": \"https://cdn.jsdelivr.net/npm//vega-lite@4.8.1?noext\",\n",
       "      \"vega-embed\": \"https://cdn.jsdelivr.net/npm//vega-embed@6?noext\",\n",
       "    };\n",
       "\n",
       "    function loadScript(lib) {\n",
       "      return new Promise(function(resolve, reject) {\n",
       "        var s = document.createElement('script');\n",
       "        s.src = paths[lib];\n",
       "        s.async = true;\n",
       "        s.onload = () => resolve(paths[lib]);\n",
       "        s.onerror = () => reject(`Error loading script: ${paths[lib]}`);\n",
       "        document.getElementsByTagName(\"head\")[0].appendChild(s);\n",
       "      });\n",
       "    }\n",
       "\n",
       "    function showError(err) {\n",
       "      outputDiv.innerHTML = `<div class=\"error\" style=\"color:red;\">${err}</div>`;\n",
       "      throw err;\n",
       "    }\n",
       "\n",
       "    function displayChart(vegaEmbed) {\n",
       "      vegaEmbed(outputDiv, spec, embedOpt)\n",
       "        .catch(err => showError(`Javascript Error: ${err.message}<br>This usually means there's a typo in your chart specification. See the javascript console for the full traceback.`));\n",
       "    }\n",
       "\n",
       "    if(typeof define === \"function\" && define.amd) {\n",
       "      requirejs.config({paths});\n",
       "      require([\"vega-embed\"], displayChart, err => showError(`Error loading script: ${err.message}`));\n",
       "    } else if (typeof vegaEmbed === \"function\") {\n",
       "      displayChart(vegaEmbed);\n",
       "    } else {\n",
       "      loadScript(\"vega\")\n",
       "        .then(() => loadScript(\"vega-lite\"))\n",
       "        .then(() => loadScript(\"vega-embed\"))\n",
       "        .catch(showError)\n",
       "        .then(() => displayChart(vegaEmbed));\n",
       "    }\n",
       "  })({\"config\": {\"view\": {\"continuousWidth\": 400, \"continuousHeight\": 300}}, \"data\": {\"name\": \"data-46fdcbb35ada6151e0b9231dbad9b087\"}, \"mark\": \"bar\", \"encoding\": {\"x\": {\"type\": \"quantitative\", \"field\": \"counts\"}, \"y\": {\"type\": \"nominal\", \"field\": \"NEIGHBOURHOOD\", \"sort\": \"-x\"}}, \"$schema\": \"https://vega.github.io/schema/vega-lite/v4.8.1.json\", \"datasets\": {\"data-46fdcbb35ada6151e0b9231dbad9b087\": [{\"NEIGHBOURHOOD\": \"Central Business District\", \"counts\": 30086}, {\"NEIGHBOURHOOD\": \"Fairview\", \"counts\": 5387}, {\"NEIGHBOURHOOD\": \"Hastings-Sunrise\", \"counts\": 3411}, {\"NEIGHBOURHOOD\": \"Renfrew-Collingwood\", \"counts\": 6570}, {\"NEIGHBOURHOOD\": \"Strathcona\", \"counts\": 8090}, {\"NEIGHBOURHOOD\": \"Victoria-Fraserview\", \"counts\": 1854}]}}, {\"mode\": \"vega-lite\"});\n",
       "</script>"
      ],
      "text/plain": [
       "alt.Chart(...)"
      ]
     },
     "execution_count": 10,
     "metadata": {},
     "output_type": "execute_result"
    }
   ],
   "source": [
    "## Crime counts by neighborhood\n",
    "\n",
    "# Group the data by neighborhood and count the number of crimes in each neighborhood\n",
    "crime_counts = df.groupby('NEIGHBOURHOOD').size().reset_index(name='counts')\n",
    "\n",
    "# Create a bar chart showing the crime counts by neighborhood\n",
    "chart = alt.Chart(crime_counts).mark_bar().encode(\n",
    "    x='counts',\n",
    "    y=alt.Y('NEIGHBOURHOOD:N', sort='-x'),\n",
    ")\n",
    "\n",
    "chart"
   ]
  },
  {
   "cell_type": "code",
   "execution_count": 39,
   "id": "f92b88b7-f96e-4732-b5c4-bcffbf93c012",
   "metadata": {},
   "outputs": [
    {
     "data": {
      "text/plain": [
       "HUNDRED_BLOCK\n",
       "31XX GRANDVIEW HWY    1960\n",
       "7XX GRANVILLE ST       860\n",
       "7XX W GEORGIA ST       846\n",
       "X NK_LOC ST            718\n",
       "7XX ROBSON ST          569\n",
       "1XX WATER ST           390\n",
       "5XX W HASTINGS ST      360\n",
       "7XX DUNSMUIR ST        344\n",
       "3XX ABBOTT ST          340\n",
       "6XX RICHARDS ST        309\n",
       "5XX RICHARDS ST        275\n",
       "8X W PENDER ST         271\n",
       "1XX W PENDER ST        266\n",
       "1XX E HASTINGS ST      262\n",
       "4XX SEYMOUR ST         244\n",
       "9XX ROBSON ST          239\n",
       "9XX TERMINAL AVE       236\n",
       "5XX W BROADWAY AVE     234\n",
       "5XX HORNBY ST          234\n",
       "dtype: int64"
      ]
     },
     "execution_count": 39,
     "metadata": {},
     "output_type": "execute_result"
    }
   ],
   "source": [
    "# Count of crimes by hundred block, removed first entry as it was null\n",
    "hundred_block = df.groupby('HUNDRED_BLOCK').size().sort_values(ascending=False)[1:20]\n",
    "hundred_block"
   ]
  },
  {
   "cell_type": "code",
   "execution_count": 46,
   "id": "b36016ee-5672-474a-9090-10a15d46c8b5",
   "metadata": {},
   "outputs": [
    {
     "name": "stderr",
     "output_type": "stream",
     "text": [
      "/Users/justin/miniforge3/lib/python3.10/site-packages/altair/utils/data.py:226: AltairDeprecationWarning: alt.pipe() is deprecated, and will be removed in a future release. Use toolz.curried.pipe() instead.\n",
      "  warnings.warn(\n",
      "/Users/justin/miniforge3/lib/python3.10/site-packages/altair/utils/core.py:283: FutureWarning: iteritems is deprecated and will be removed in a future version. Use .items instead.\n",
      "  for col_name, dtype in df.dtypes.iteritems():\n"
     ]
    },
    {
     "data": {
      "text/html": [
       "\n",
       "<div id=\"altair-viz-e1907284a27d41d18326e2228dbb9b2d\"></div>\n",
       "<script type=\"text/javascript\">\n",
       "  (function(spec, embedOpt){\n",
       "    let outputDiv = document.currentScript.previousElementSibling;\n",
       "    if (outputDiv.id !== \"altair-viz-e1907284a27d41d18326e2228dbb9b2d\") {\n",
       "      outputDiv = document.getElementById(\"altair-viz-e1907284a27d41d18326e2228dbb9b2d\");\n",
       "    }\n",
       "    const paths = {\n",
       "      \"vega\": \"https://cdn.jsdelivr.net/npm//vega@5?noext\",\n",
       "      \"vega-lib\": \"https://cdn.jsdelivr.net/npm//vega-lib?noext\",\n",
       "      \"vega-lite\": \"https://cdn.jsdelivr.net/npm//vega-lite@4.8.1?noext\",\n",
       "      \"vega-embed\": \"https://cdn.jsdelivr.net/npm//vega-embed@6?noext\",\n",
       "    };\n",
       "\n",
       "    function loadScript(lib) {\n",
       "      return new Promise(function(resolve, reject) {\n",
       "        var s = document.createElement('script');\n",
       "        s.src = paths[lib];\n",
       "        s.async = true;\n",
       "        s.onload = () => resolve(paths[lib]);\n",
       "        s.onerror = () => reject(`Error loading script: ${paths[lib]}`);\n",
       "        document.getElementsByTagName(\"head\")[0].appendChild(s);\n",
       "      });\n",
       "    }\n",
       "\n",
       "    function showError(err) {\n",
       "      outputDiv.innerHTML = `<div class=\"error\" style=\"color:red;\">${err}</div>`;\n",
       "      throw err;\n",
       "    }\n",
       "\n",
       "    function displayChart(vegaEmbed) {\n",
       "      vegaEmbed(outputDiv, spec, embedOpt)\n",
       "        .catch(err => showError(`Javascript Error: ${err.message}<br>This usually means there's a typo in your chart specification. See the javascript console for the full traceback.`));\n",
       "    }\n",
       "\n",
       "    if(typeof define === \"function\" && define.amd) {\n",
       "      requirejs.config({paths});\n",
       "      require([\"vega-embed\"], displayChart, err => showError(`Error loading script: ${err.message}`));\n",
       "    } else if (typeof vegaEmbed === \"function\") {\n",
       "      displayChart(vegaEmbed);\n",
       "    } else {\n",
       "      loadScript(\"vega\")\n",
       "        .then(() => loadScript(\"vega-lite\"))\n",
       "        .then(() => loadScript(\"vega-embed\"))\n",
       "        .catch(showError)\n",
       "        .then(() => displayChart(vegaEmbed));\n",
       "    }\n",
       "  })({\"config\": {\"view\": {\"continuousWidth\": 400, \"continuousHeight\": 300}}, \"data\": {\"name\": \"data-8d99f45e671649c99e2b7e9348194feb\"}, \"mark\": \"bar\", \"encoding\": {\"x\": {\"type\": \"quantitative\", \"field\": \"counts\"}, \"y\": {\"type\": \"nominal\", \"field\": \"HUNDRED_BLOCK\", \"sort\": \"-x\"}}, \"$schema\": \"https://vega.github.io/schema/vega-lite/v4.8.1.json\", \"datasets\": {\"data-8d99f45e671649c99e2b7e9348194feb\": [{\"HUNDRED_BLOCK\": \"31XX GRANDVIEW HWY\", \"counts\": 1960}, {\"HUNDRED_BLOCK\": \"7XX GRANVILLE ST\", \"counts\": 860}, {\"HUNDRED_BLOCK\": \"7XX W GEORGIA ST\", \"counts\": 846}, {\"HUNDRED_BLOCK\": \"X NK_LOC ST\", \"counts\": 718}, {\"HUNDRED_BLOCK\": \"7XX ROBSON ST\", \"counts\": 569}, {\"HUNDRED_BLOCK\": \"1XX WATER ST\", \"counts\": 390}, {\"HUNDRED_BLOCK\": \"5XX W HASTINGS ST\", \"counts\": 360}, {\"HUNDRED_BLOCK\": \"7XX DUNSMUIR ST\", \"counts\": 344}, {\"HUNDRED_BLOCK\": \"3XX ABBOTT ST\", \"counts\": 340}, {\"HUNDRED_BLOCK\": \"6XX RICHARDS ST\", \"counts\": 309}, {\"HUNDRED_BLOCK\": \"5XX RICHARDS ST\", \"counts\": 275}, {\"HUNDRED_BLOCK\": \"8X W PENDER ST\", \"counts\": 271}, {\"HUNDRED_BLOCK\": \"1XX W PENDER ST\", \"counts\": 266}, {\"HUNDRED_BLOCK\": \"1XX E HASTINGS ST\", \"counts\": 262}, {\"HUNDRED_BLOCK\": \"4XX SEYMOUR ST\", \"counts\": 244}, {\"HUNDRED_BLOCK\": \"9XX ROBSON ST\", \"counts\": 239}, {\"HUNDRED_BLOCK\": \"9XX TERMINAL AVE\", \"counts\": 236}, {\"HUNDRED_BLOCK\": \"5XX W BROADWAY AVE\", \"counts\": 234}, {\"HUNDRED_BLOCK\": \"5XX HORNBY ST\", \"counts\": 234}]}}, {\"mode\": \"vega-lite\"});\n",
       "</script>"
      ],
      "text/plain": [
       "alt.Chart(...)"
      ]
     },
     "execution_count": 46,
     "metadata": {},
     "output_type": "execute_result"
    }
   ],
   "source": [
    "crime_count = df.groupby('HUNDRED_BLOCK').size().sort_values(ascending=False).reset_index(name='counts')[1:20]\n",
    "\n",
    "alt.Chart(crime_count).mark_bar().encode(\n",
    "    alt.X('counts'),\n",
    "    alt.Y('HUNDRED_BLOCK:N', sort='-x')\n",
    ")"
   ]
  },
  {
   "cell_type": "markdown",
   "id": "a52dec35-8182-49e3-917e-f9a8f284beea",
   "metadata": {},
   "source": [
    "**Crime Type**"
   ]
  },
  {
   "cell_type": "code",
   "execution_count": 7,
   "id": "186dac5a-f4b4-411a-9a05-aff8fbb9539e",
   "metadata": {},
   "outputs": [
    {
     "name": "stdout",
     "output_type": "stream",
     "text": [
      "Total number of rows: 55398\n",
      "Unique crime types: 11\n",
      "['Theft from Vehicle' 'Theft of Bicycle' 'Theft of Vehicle'\n",
      " 'Vehicle Collision or Pedestrian Struck (with Fatality)'\n",
      " 'Vehicle Collision or Pedestrian Struck (with Injury)'\n",
      " 'Break and Enter Commercial' 'Break and Enter Residential/Other'\n",
      " 'Homicide' 'Mischief' 'Offence Against a Person' 'Other Theft']\n"
     ]
    }
   ],
   "source": [
    "# Total number of rows\n",
    "print(\"Total number of rows:\", len(df))\n",
    "\n",
    "# Unique values in TYPE column\n",
    "print(\"Unique crime types:\", df['TYPE'].nunique())\n",
    "print(df['TYPE'].unique())"
   ]
  },
  {
   "cell_type": "code",
   "execution_count": 11,
   "id": "975dc214-5161-41d1-af20-f4edf5a36ac1",
   "metadata": {},
   "outputs": [
    {
     "name": "stderr",
     "output_type": "stream",
     "text": [
      "/Users/justin/miniforge3/lib/python3.10/site-packages/altair/utils/data.py:226: AltairDeprecationWarning: alt.pipe() is deprecated, and will be removed in a future release. Use toolz.curried.pipe() instead.\n",
      "  warnings.warn(\n",
      "/Users/justin/miniforge3/lib/python3.10/site-packages/altair/utils/core.py:283: FutureWarning: iteritems is deprecated and will be removed in a future version. Use .items instead.\n",
      "  for col_name, dtype in df.dtypes.iteritems():\n"
     ]
    },
    {
     "data": {
      "text/html": [
       "\n",
       "<div id=\"altair-viz-6eb46ffc67f446c5a6ac6792165608ed\"></div>\n",
       "<script type=\"text/javascript\">\n",
       "  (function(spec, embedOpt){\n",
       "    let outputDiv = document.currentScript.previousElementSibling;\n",
       "    if (outputDiv.id !== \"altair-viz-6eb46ffc67f446c5a6ac6792165608ed\") {\n",
       "      outputDiv = document.getElementById(\"altair-viz-6eb46ffc67f446c5a6ac6792165608ed\");\n",
       "    }\n",
       "    const paths = {\n",
       "      \"vega\": \"https://cdn.jsdelivr.net/npm//vega@5?noext\",\n",
       "      \"vega-lib\": \"https://cdn.jsdelivr.net/npm//vega-lib?noext\",\n",
       "      \"vega-lite\": \"https://cdn.jsdelivr.net/npm//vega-lite@4.8.1?noext\",\n",
       "      \"vega-embed\": \"https://cdn.jsdelivr.net/npm//vega-embed@6?noext\",\n",
       "    };\n",
       "\n",
       "    function loadScript(lib) {\n",
       "      return new Promise(function(resolve, reject) {\n",
       "        var s = document.createElement('script');\n",
       "        s.src = paths[lib];\n",
       "        s.async = true;\n",
       "        s.onload = () => resolve(paths[lib]);\n",
       "        s.onerror = () => reject(`Error loading script: ${paths[lib]}`);\n",
       "        document.getElementsByTagName(\"head\")[0].appendChild(s);\n",
       "      });\n",
       "    }\n",
       "\n",
       "    function showError(err) {\n",
       "      outputDiv.innerHTML = `<div class=\"error\" style=\"color:red;\">${err}</div>`;\n",
       "      throw err;\n",
       "    }\n",
       "\n",
       "    function displayChart(vegaEmbed) {\n",
       "      vegaEmbed(outputDiv, spec, embedOpt)\n",
       "        .catch(err => showError(`Javascript Error: ${err.message}<br>This usually means there's a typo in your chart specification. See the javascript console for the full traceback.`));\n",
       "    }\n",
       "\n",
       "    if(typeof define === \"function\" && define.amd) {\n",
       "      requirejs.config({paths});\n",
       "      require([\"vega-embed\"], displayChart, err => showError(`Error loading script: ${err.message}`));\n",
       "    } else if (typeof vegaEmbed === \"function\") {\n",
       "      displayChart(vegaEmbed);\n",
       "    } else {\n",
       "      loadScript(\"vega\")\n",
       "        .then(() => loadScript(\"vega-lite\"))\n",
       "        .then(() => loadScript(\"vega-embed\"))\n",
       "        .catch(showError)\n",
       "        .then(() => displayChart(vegaEmbed));\n",
       "    }\n",
       "  })({\"config\": {\"view\": {\"continuousWidth\": 400, \"continuousHeight\": 300}}, \"data\": {\"name\": \"data-ee80c8ca26bc07f3a6f201e9356820f6\"}, \"mark\": \"bar\", \"encoding\": {\"x\": {\"type\": \"quantitative\", \"field\": \"counts\"}, \"y\": {\"type\": \"nominal\", \"field\": \"TYPE\", \"sort\": \"-x\"}}, \"$schema\": \"https://vega.github.io/schema/vega-lite/v4.8.1.json\", \"datasets\": {\"data-ee80c8ca26bc07f3a6f201e9356820f6\": [{\"TYPE\": \"Break and Enter Commercial\", \"counts\": 3547}, {\"TYPE\": \"Break and Enter Residential/Other\", \"counts\": 1482}, {\"TYPE\": \"Homicide\", \"counts\": 29}, {\"TYPE\": \"Mischief\", \"counts\": 9980}, {\"TYPE\": \"Offence Against a Person\", \"counts\": 6787}, {\"TYPE\": \"Other Theft\", \"counts\": 15972}, {\"TYPE\": \"Theft from Vehicle\", \"counts\": 13040}, {\"TYPE\": \"Theft of Bicycle\", \"counts\": 2231}, {\"TYPE\": \"Theft of Vehicle\", \"counts\": 1080}, {\"TYPE\": \"Vehicle Collision or Pedestrian Struck (with Fatality)\", \"counts\": 20}, {\"TYPE\": \"Vehicle Collision or Pedestrian Struck (with Injury)\", \"counts\": 1230}]}}, {\"mode\": \"vega-lite\"});\n",
       "</script>"
      ],
      "text/plain": [
       "alt.Chart(...)"
      ]
     },
     "execution_count": 11,
     "metadata": {},
     "output_type": "execute_result"
    }
   ],
   "source": [
    "## Crime counts by type\n",
    "\n",
    "# Group the data by neighborhood and count the number of crimes in each neighborhood\n",
    "crime_counts = df.groupby('TYPE').size().reset_index(name='counts')\n",
    "\n",
    "# Create a bar chart showing the crime counts by neighborhood\n",
    "alt.Chart(crime_counts).mark_bar().encode(\n",
    "    x='counts',\n",
    "    y=alt.Y('TYPE:N', sort='-x'),\n",
    ")"
   ]
  },
  {
   "cell_type": "markdown",
   "id": "27a0fce6-49f9-40c6-873b-059a9fbf42f0",
   "metadata": {},
   "source": [
    "**Time and Date**"
   ]
  },
  {
   "cell_type": "code",
   "execution_count": 16,
   "id": "61e03a02-abfb-4dc4-96f1-e3084c0af638",
   "metadata": {},
   "outputs": [
    {
     "name": "stderr",
     "output_type": "stream",
     "text": [
      "/Users/justin/miniforge3/lib/python3.10/site-packages/altair/utils/data.py:226: AltairDeprecationWarning: alt.pipe() is deprecated, and will be removed in a future release. Use toolz.curried.pipe() instead.\n",
      "  warnings.warn(\n",
      "/Users/justin/miniforge3/lib/python3.10/site-packages/altair/utils/core.py:283: FutureWarning: iteritems is deprecated and will be removed in a future version. Use .items instead.\n",
      "  for col_name, dtype in df.dtypes.iteritems():\n"
     ]
    },
    {
     "data": {
      "text/html": [
       "\n",
       "<div id=\"altair-viz-777dc0adb5fe4b88a0511d7a95498b71\"></div>\n",
       "<script type=\"text/javascript\">\n",
       "  (function(spec, embedOpt){\n",
       "    let outputDiv = document.currentScript.previousElementSibling;\n",
       "    if (outputDiv.id !== \"altair-viz-777dc0adb5fe4b88a0511d7a95498b71\") {\n",
       "      outputDiv = document.getElementById(\"altair-viz-777dc0adb5fe4b88a0511d7a95498b71\");\n",
       "    }\n",
       "    const paths = {\n",
       "      \"vega\": \"https://cdn.jsdelivr.net/npm//vega@5?noext\",\n",
       "      \"vega-lib\": \"https://cdn.jsdelivr.net/npm//vega-lib?noext\",\n",
       "      \"vega-lite\": \"https://cdn.jsdelivr.net/npm//vega-lite@4.8.1?noext\",\n",
       "      \"vega-embed\": \"https://cdn.jsdelivr.net/npm//vega-embed@6?noext\",\n",
       "    };\n",
       "\n",
       "    function loadScript(lib) {\n",
       "      return new Promise(function(resolve, reject) {\n",
       "        var s = document.createElement('script');\n",
       "        s.src = paths[lib];\n",
       "        s.async = true;\n",
       "        s.onload = () => resolve(paths[lib]);\n",
       "        s.onerror = () => reject(`Error loading script: ${paths[lib]}`);\n",
       "        document.getElementsByTagName(\"head\")[0].appendChild(s);\n",
       "      });\n",
       "    }\n",
       "\n",
       "    function showError(err) {\n",
       "      outputDiv.innerHTML = `<div class=\"error\" style=\"color:red;\">${err}</div>`;\n",
       "      throw err;\n",
       "    }\n",
       "\n",
       "    function displayChart(vegaEmbed) {\n",
       "      vegaEmbed(outputDiv, spec, embedOpt)\n",
       "        .catch(err => showError(`Javascript Error: ${err.message}<br>This usually means there's a typo in your chart specification. See the javascript console for the full traceback.`));\n",
       "    }\n",
       "\n",
       "    if(typeof define === \"function\" && define.amd) {\n",
       "      requirejs.config({paths});\n",
       "      require([\"vega-embed\"], displayChart, err => showError(`Error loading script: ${err.message}`));\n",
       "    } else if (typeof vegaEmbed === \"function\") {\n",
       "      displayChart(vegaEmbed);\n",
       "    } else {\n",
       "      loadScript(\"vega\")\n",
       "        .then(() => loadScript(\"vega-lite\"))\n",
       "        .then(() => loadScript(\"vega-embed\"))\n",
       "        .catch(showError)\n",
       "        .then(() => displayChart(vegaEmbed));\n",
       "    }\n",
       "  })({\"config\": {\"view\": {\"continuousWidth\": 400, \"continuousHeight\": 300}}, \"data\": {\"name\": \"data-845b14c27404bcdd554bba99f7264489\"}, \"mark\": \"line\", \"encoding\": {\"x\": {\"type\": \"temporal\", \"field\": \"year-month\"}, \"y\": {\"type\": \"quantitative\", \"field\": \"COUNT\"}}, \"$schema\": \"https://vega.github.io/schema/vega-lite/v4.8.1.json\", \"datasets\": {\"data-845b14c27404bcdd554bba99f7264489\": [{\"year-month\": \"2020-01-01T00:00:00\", \"COUNT\": 2214}, {\"year-month\": \"2020-02-01T00:00:00\", \"COUNT\": 2125}, {\"year-month\": \"2020-03-01T00:00:00\", \"COUNT\": 2025}, {\"year-month\": \"2020-04-01T00:00:00\", \"COUNT\": 1590}, {\"year-month\": \"2020-05-01T00:00:00\", \"COUNT\": 1162}, {\"year-month\": \"2020-06-01T00:00:00\", \"COUNT\": 1245}, {\"year-month\": \"2020-07-01T00:00:00\", \"COUNT\": 1476}, {\"year-month\": \"2020-08-01T00:00:00\", \"COUNT\": 1673}, {\"year-month\": \"2020-09-01T00:00:00\", \"COUNT\": 1575}, {\"year-month\": \"2020-10-01T00:00:00\", \"COUNT\": 1740}, {\"year-month\": \"2020-11-01T00:00:00\", \"COUNT\": 1449}, {\"year-month\": \"2020-12-01T00:00:00\", \"COUNT\": 1409}, {\"year-month\": \"2021-01-01T00:00:00\", \"COUNT\": 1524}, {\"year-month\": \"2021-02-01T00:00:00\", \"COUNT\": 1280}, {\"year-month\": \"2021-03-01T00:00:00\", \"COUNT\": 1260}, {\"year-month\": \"2021-04-01T00:00:00\", \"COUNT\": 1295}, {\"year-month\": \"2021-05-01T00:00:00\", \"COUNT\": 1369}, {\"year-month\": \"2021-06-01T00:00:00\", \"COUNT\": 1300}, {\"year-month\": \"2021-07-01T00:00:00\", \"COUNT\": 1498}, {\"year-month\": \"2021-08-01T00:00:00\", \"COUNT\": 1570}, {\"year-month\": \"2021-09-01T00:00:00\", \"COUNT\": 1467}, {\"year-month\": \"2021-10-01T00:00:00\", \"COUNT\": 1432}, {\"year-month\": \"2021-11-01T00:00:00\", \"COUNT\": 1554}, {\"year-month\": \"2021-12-01T00:00:00\", \"COUNT\": 1359}, {\"year-month\": \"2022-01-01T00:00:00\", \"COUNT\": 1500}, {\"year-month\": \"2022-02-01T00:00:00\", \"COUNT\": 1431}, {\"year-month\": \"2022-03-01T00:00:00\", \"COUNT\": 1561}, {\"year-month\": \"2022-04-01T00:00:00\", \"COUNT\": 1587}, {\"year-month\": \"2022-05-01T00:00:00\", \"COUNT\": 1590}, {\"year-month\": \"2022-06-01T00:00:00\", \"COUNT\": 1509}, {\"year-month\": \"2022-07-01T00:00:00\", \"COUNT\": 1679}, {\"year-month\": \"2022-08-01T00:00:00\", \"COUNT\": 1797}, {\"year-month\": \"2022-09-01T00:00:00\", \"COUNT\": 1692}, {\"year-month\": \"2022-10-01T00:00:00\", \"COUNT\": 1702}, {\"year-month\": \"2022-11-01T00:00:00\", \"COUNT\": 1374}, {\"year-month\": \"2022-12-01T00:00:00\", \"COUNT\": 1385}]}}, {\"mode\": \"vega-lite\"});\n",
       "</script>"
      ],
      "text/plain": [
       "alt.Chart(...)"
      ]
     },
     "execution_count": 16,
     "metadata": {},
     "output_type": "execute_result"
    }
   ],
   "source": [
    "## Crime trends over time\n",
    "\n",
    "# Create a new column 'year-month' by combining the YEAR and MONTH columns\n",
    "df['year-month'] = pd.to_datetime(df[['YEAR', 'MONTH']].assign(DAY=1))\n",
    "\n",
    "# Create a dataframe of crime counts by year-month\n",
    "month_counts = df.groupby('year-month')['TYPE'].count().reset_index(name='COUNT')\n",
    "\n",
    "# Create a line chart of crime counts by year-month\n",
    "alt.Chart(month_counts).mark_line().encode(\n",
    "    x='year-month:T',\n",
    "    y='COUNT:Q'\n",
    ")"
   ]
  },
  {
   "cell_type": "code",
   "execution_count": 13,
   "id": "2abe1748-c798-422a-9ea5-f7f5628fc4fb",
   "metadata": {},
   "outputs": [
    {
     "name": "stdout",
     "output_type": "stream",
     "text": [
      "YEAR\n",
      "2020    19683\n",
      "2022    18807\n",
      "2021    16908\n",
      "dtype: int64\n",
      "Number of crimes in 2016: 0\n"
     ]
    }
   ],
   "source": [
    "# Count of crimes by year\n",
    "print(df.groupby('YEAR').size().sort_values(ascending=False))\n",
    "\n",
    "# Number of crimes in 2016\n",
    "print(\"Number of crimes in 2016:\", len(df[df['YEAR'] == 2016]))"
   ]
  },
  {
   "cell_type": "code",
   "execution_count": 14,
   "id": "a99cb569-3521-4112-87ae-fcd58d01feec",
   "metadata": {},
   "outputs": [
    {
     "name": "stdout",
     "output_type": "stream",
     "text": [
      "HOUR\n",
      "0     9643\n",
      "18    2993\n",
      "17    2982\n",
      "16    2710\n",
      "12    2665\n",
      "19    2640\n",
      "15    2544\n",
      "20    2495\n",
      "14    2414\n",
      "22    2271\n",
      "13    2209\n",
      "21    2166\n",
      "11    2003\n",
      "10    1943\n",
      "23    1883\n",
      "9     1809\n",
      "8     1633\n",
      "1     1447\n",
      "7     1275\n",
      "2     1239\n",
      "3     1171\n",
      "4     1138\n",
      "5     1078\n",
      "6     1047\n",
      "dtype: int64\n",
      "Most frequent hour for crimes: 0\n"
     ]
    }
   ],
   "source": [
    "# Count of crimes by hour\n",
    "print(df.groupby('HOUR').size().sort_values(ascending=False))\n",
    "\n",
    "# Most frequent hour for crimes\n",
    "print(\"Most frequent hour for crimes:\", df['HOUR'].mode().values[0])"
   ]
  },
  {
   "cell_type": "code",
   "execution_count": 17,
   "id": "c5abb198-2269-4329-9915-01293ac24e97",
   "metadata": {},
   "outputs": [
    {
     "name": "stderr",
     "output_type": "stream",
     "text": [
      "/Users/justin/miniforge3/lib/python3.10/site-packages/altair/utils/data.py:226: AltairDeprecationWarning: alt.pipe() is deprecated, and will be removed in a future release. Use toolz.curried.pipe() instead.\n",
      "  warnings.warn(\n",
      "/Users/justin/miniforge3/lib/python3.10/site-packages/altair/utils/core.py:283: FutureWarning: iteritems is deprecated and will be removed in a future version. Use .items instead.\n",
      "  for col_name, dtype in df.dtypes.iteritems():\n"
     ]
    },
    {
     "data": {
      "text/html": [
       "\n",
       "<div id=\"altair-viz-72385d81b0c642d1a390e020ccffa399\"></div>\n",
       "<script type=\"text/javascript\">\n",
       "  (function(spec, embedOpt){\n",
       "    let outputDiv = document.currentScript.previousElementSibling;\n",
       "    if (outputDiv.id !== \"altair-viz-72385d81b0c642d1a390e020ccffa399\") {\n",
       "      outputDiv = document.getElementById(\"altair-viz-72385d81b0c642d1a390e020ccffa399\");\n",
       "    }\n",
       "    const paths = {\n",
       "      \"vega\": \"https://cdn.jsdelivr.net/npm//vega@5?noext\",\n",
       "      \"vega-lib\": \"https://cdn.jsdelivr.net/npm//vega-lib?noext\",\n",
       "      \"vega-lite\": \"https://cdn.jsdelivr.net/npm//vega-lite@4.8.1?noext\",\n",
       "      \"vega-embed\": \"https://cdn.jsdelivr.net/npm//vega-embed@6?noext\",\n",
       "    };\n",
       "\n",
       "    function loadScript(lib) {\n",
       "      return new Promise(function(resolve, reject) {\n",
       "        var s = document.createElement('script');\n",
       "        s.src = paths[lib];\n",
       "        s.async = true;\n",
       "        s.onload = () => resolve(paths[lib]);\n",
       "        s.onerror = () => reject(`Error loading script: ${paths[lib]}`);\n",
       "        document.getElementsByTagName(\"head\")[0].appendChild(s);\n",
       "      });\n",
       "    }\n",
       "\n",
       "    function showError(err) {\n",
       "      outputDiv.innerHTML = `<div class=\"error\" style=\"color:red;\">${err}</div>`;\n",
       "      throw err;\n",
       "    }\n",
       "\n",
       "    function displayChart(vegaEmbed) {\n",
       "      vegaEmbed(outputDiv, spec, embedOpt)\n",
       "        .catch(err => showError(`Javascript Error: ${err.message}<br>This usually means there's a typo in your chart specification. See the javascript console for the full traceback.`));\n",
       "    }\n",
       "\n",
       "    if(typeof define === \"function\" && define.amd) {\n",
       "      requirejs.config({paths});\n",
       "      require([\"vega-embed\"], displayChart, err => showError(`Error loading script: ${err.message}`));\n",
       "    } else if (typeof vegaEmbed === \"function\") {\n",
       "      displayChart(vegaEmbed);\n",
       "    } else {\n",
       "      loadScript(\"vega\")\n",
       "        .then(() => loadScript(\"vega-lite\"))\n",
       "        .then(() => loadScript(\"vega-embed\"))\n",
       "        .catch(showError)\n",
       "        .then(() => displayChart(vegaEmbed));\n",
       "    }\n",
       "  })({\"config\": {\"view\": {\"continuousWidth\": 400, \"continuousHeight\": 300}}, \"data\": {\"name\": \"data-3c0171bdfc5cf450fd9835b37451feaa\"}, \"mark\": \"line\", \"encoding\": {\"x\": {\"type\": \"quantitative\", \"field\": \"HOUR\", \"title\": \"Hour\"}, \"y\": {\"type\": \"quantitative\", \"field\": \"count\", \"title\": \"Crime Count\"}}, \"title\": \"Hourly crime count\", \"$schema\": \"https://vega.github.io/schema/vega-lite/v4.8.1.json\", \"datasets\": {\"data-3c0171bdfc5cf450fd9835b37451feaa\": [{\"HOUR\": 0, \"count\": 9643}, {\"HOUR\": 1, \"count\": 1447}, {\"HOUR\": 2, \"count\": 1239}, {\"HOUR\": 3, \"count\": 1171}, {\"HOUR\": 4, \"count\": 1138}, {\"HOUR\": 5, \"count\": 1078}, {\"HOUR\": 6, \"count\": 1047}, {\"HOUR\": 7, \"count\": 1275}, {\"HOUR\": 8, \"count\": 1633}, {\"HOUR\": 9, \"count\": 1809}, {\"HOUR\": 10, \"count\": 1943}, {\"HOUR\": 11, \"count\": 2003}, {\"HOUR\": 12, \"count\": 2665}, {\"HOUR\": 13, \"count\": 2209}, {\"HOUR\": 14, \"count\": 2414}, {\"HOUR\": 15, \"count\": 2544}, {\"HOUR\": 16, \"count\": 2710}, {\"HOUR\": 17, \"count\": 2982}, {\"HOUR\": 18, \"count\": 2993}, {\"HOUR\": 19, \"count\": 2640}, {\"HOUR\": 20, \"count\": 2495}, {\"HOUR\": 21, \"count\": 2166}, {\"HOUR\": 22, \"count\": 2271}, {\"HOUR\": 23, \"count\": 1883}]}}, {\"mode\": \"vega-lite\"});\n",
       "</script>"
      ],
      "text/plain": [
       "alt.Chart(...)"
      ]
     },
     "execution_count": 17,
     "metadata": {},
     "output_type": "execute_result"
    }
   ],
   "source": [
    "# Hourly Crime Rate\n",
    "\n",
    "hourly_count = df.groupby('HOUR')['HOUR'].count().reset_index(name='count')\n",
    "\n",
    "alt.Chart(hourly_count).mark_line().encode(\n",
    "    x=alt.X('HOUR', title='Hour'),\n",
    "    y=alt.Y('count', title='Crime Count')\n",
    ").properties(title='Hourly crime count')"
   ]
  },
  {
   "cell_type": "code",
   "execution_count": 15,
   "id": "caf017da-2da4-4d83-b436-914a44931424",
   "metadata": {},
   "outputs": [
    {
     "name": "stderr",
     "output_type": "stream",
     "text": [
      "/Users/justin/miniforge3/lib/python3.10/site-packages/altair/utils/data.py:226: AltairDeprecationWarning: alt.pipe() is deprecated, and will be removed in a future release. Use toolz.curried.pipe() instead.\n",
      "  warnings.warn(\n",
      "/Users/justin/miniforge3/lib/python3.10/site-packages/altair/utils/core.py:283: FutureWarning: iteritems is deprecated and will be removed in a future version. Use .items instead.\n",
      "  for col_name, dtype in df.dtypes.iteritems():\n"
     ]
    },
    {
     "data": {
      "text/html": [
       "\n",
       "<div id=\"altair-viz-8b562b704f814c7a854b9beba21bcd70\"></div>\n",
       "<script type=\"text/javascript\">\n",
       "  (function(spec, embedOpt){\n",
       "    let outputDiv = document.currentScript.previousElementSibling;\n",
       "    if (outputDiv.id !== \"altair-viz-8b562b704f814c7a854b9beba21bcd70\") {\n",
       "      outputDiv = document.getElementById(\"altair-viz-8b562b704f814c7a854b9beba21bcd70\");\n",
       "    }\n",
       "    const paths = {\n",
       "      \"vega\": \"https://cdn.jsdelivr.net/npm//vega@5?noext\",\n",
       "      \"vega-lib\": \"https://cdn.jsdelivr.net/npm//vega-lib?noext\",\n",
       "      \"vega-lite\": \"https://cdn.jsdelivr.net/npm//vega-lite@4.8.1?noext\",\n",
       "      \"vega-embed\": \"https://cdn.jsdelivr.net/npm//vega-embed@6?noext\",\n",
       "    };\n",
       "\n",
       "    function loadScript(lib) {\n",
       "      return new Promise(function(resolve, reject) {\n",
       "        var s = document.createElement('script');\n",
       "        s.src = paths[lib];\n",
       "        s.async = true;\n",
       "        s.onload = () => resolve(paths[lib]);\n",
       "        s.onerror = () => reject(`Error loading script: ${paths[lib]}`);\n",
       "        document.getElementsByTagName(\"head\")[0].appendChild(s);\n",
       "      });\n",
       "    }\n",
       "\n",
       "    function showError(err) {\n",
       "      outputDiv.innerHTML = `<div class=\"error\" style=\"color:red;\">${err}</div>`;\n",
       "      throw err;\n",
       "    }\n",
       "\n",
       "    function displayChart(vegaEmbed) {\n",
       "      vegaEmbed(outputDiv, spec, embedOpt)\n",
       "        .catch(err => showError(`Javascript Error: ${err.message}<br>This usually means there's a typo in your chart specification. See the javascript console for the full traceback.`));\n",
       "    }\n",
       "\n",
       "    if(typeof define === \"function\" && define.amd) {\n",
       "      requirejs.config({paths});\n",
       "      require([\"vega-embed\"], displayChart, err => showError(`Error loading script: ${err.message}`));\n",
       "    } else if (typeof vegaEmbed === \"function\") {\n",
       "      displayChart(vegaEmbed);\n",
       "    } else {\n",
       "      loadScript(\"vega\")\n",
       "        .then(() => loadScript(\"vega-lite\"))\n",
       "        .then(() => loadScript(\"vega-embed\"))\n",
       "        .catch(showError)\n",
       "        .then(() => displayChart(vegaEmbed));\n",
       "    }\n",
       "  })({\"config\": {\"view\": {\"continuousWidth\": 400, \"continuousHeight\": 300}}, \"data\": {\"name\": \"data-1d3a39676b478aed1b646b885b6a365b\"}, \"mark\": \"bar\", \"encoding\": {\"x\": {\"type\": \"quantitative\", \"field\": \"count\", \"title\": \"Crime Count\"}, \"y\": {\"type\": \"nominal\", \"field\": \"WEEKDAY\", \"sort\": [\"Monday\", \"Tuesday\", \"Wednesday\", \"Thursday\", \"Friday\", \"Saturday\", \"Sunday\"], \"title\": \"Day of the Week\"}}, \"title\": \"Crime count by day of the week\", \"$schema\": \"https://vega.github.io/schema/vega-lite/v4.8.1.json\", \"datasets\": {\"data-1d3a39676b478aed1b646b885b6a365b\": [{\"WEEKDAY\": \"Friday\", \"count\": 8236}, {\"WEEKDAY\": \"Monday\", \"count\": 7993}, {\"WEEKDAY\": \"Saturday\", \"count\": 8314}, {\"WEEKDAY\": \"Sunday\", \"count\": 7848}, {\"WEEKDAY\": \"Thursday\", \"count\": 7834}, {\"WEEKDAY\": \"Tuesday\", \"count\": 7636}, {\"WEEKDAY\": \"Wednesday\", \"count\": 7537}]}}, {\"mode\": \"vega-lite\"});\n",
       "</script>"
      ],
      "text/plain": [
       "alt.Chart(...)"
      ]
     },
     "execution_count": 15,
     "metadata": {},
     "output_type": "execute_result"
    }
   ],
   "source": [
    "# Crime count by day of the week\n",
    "df['WEEKDAY'] = df.apply(lambda x: calendar.day_name[datetime.date(x['YEAR'], x['MONTH'], x['DAY']).weekday()], axis=1)\n",
    "\n",
    "weekday_count = df.groupby('WEEKDAY')['WEEKDAY'].count().reset_index(name='count')\n",
    "alt.Chart(weekday_count).mark_bar().encode(\n",
    "    x=alt.X('count', title='Crime Count'),\n",
    "    y=alt.Y('WEEKDAY', sort=['Monday', 'Tuesday', 'Wednesday', 'Thursday', 'Friday', 'Saturday', 'Sunday'], title='Day of the Week')\n",
    ").properties(title='Crime count by day of the week')\n"
   ]
  },
  {
   "cell_type": "markdown",
   "id": "7665e378-50dc-4acf-837e-3653fc7c4c13",
   "metadata": {},
   "source": [
    "### Bivariate Summaries\n",
    "\n",
    "Secondly, we include bivariate summaries and visuals such as stacked bar charts and layered bar charts."
   ]
  },
  {
   "cell_type": "markdown",
   "id": "a5a4701a-db1a-4301-94f1-846f7976ce37",
   "metadata": {},
   "source": [
    "\n",
    "**Average and Median Income by Neighbourhood**"
   ]
  },
  {
   "cell_type": "code",
   "execution_count": 51,
   "id": "76ba883c-2c82-4bd7-bafc-fc0f18f96628",
   "metadata": {},
   "outputs": [
    {
     "data": {
      "text/html": [
       "<div>\n",
       "<style scoped>\n",
       "    .dataframe tbody tr th:only-of-type {\n",
       "        vertical-align: middle;\n",
       "    }\n",
       "\n",
       "    .dataframe tbody tr th {\n",
       "        vertical-align: top;\n",
       "    }\n",
       "\n",
       "    .dataframe thead th {\n",
       "        text-align: right;\n",
       "    }\n",
       "</style>\n",
       "<table border=\"1\" class=\"dataframe\">\n",
       "  <thead>\n",
       "    <tr style=\"text-align: right;\">\n",
       "      <th></th>\n",
       "      <th>Average Household Income After Taxes</th>\n",
       "      <th>Median Household Income After Taxes</th>\n",
       "    </tr>\n",
       "  </thead>\n",
       "  <tbody>\n",
       "    <tr>\n",
       "      <th>count</th>\n",
       "      <td>6.00</td>\n",
       "      <td>6.00</td>\n",
       "    </tr>\n",
       "    <tr>\n",
       "      <th>mean</th>\n",
       "      <td>63,320.78</td>\n",
       "      <td>50,195.42</td>\n",
       "    </tr>\n",
       "    <tr>\n",
       "      <th>std</th>\n",
       "      <td>11,316.85</td>\n",
       "      <td>13,920.67</td>\n",
       "    </tr>\n",
       "    <tr>\n",
       "      <th>min</th>\n",
       "      <td>40,925.00</td>\n",
       "      <td>22,542.00</td>\n",
       "    </tr>\n",
       "    <tr>\n",
       "      <th>25%</th>\n",
       "      <td>65,813.00</td>\n",
       "      <td>53,150.25</td>\n",
       "    </tr>\n",
       "    <tr>\n",
       "      <th>50%</th>\n",
       "      <td>66,593.50</td>\n",
       "      <td>53,368.50</td>\n",
       "    </tr>\n",
       "    <tr>\n",
       "      <th>75%</th>\n",
       "      <td>66,889.25</td>\n",
       "      <td>56,540.62</td>\n",
       "    </tr>\n",
       "    <tr>\n",
       "      <th>max</th>\n",
       "      <td>73,272.00</td>\n",
       "      <td>61,218.00</td>\n",
       "    </tr>\n",
       "  </tbody>\n",
       "</table>\n",
       "</div>"
      ],
      "text/plain": [
       "      Average Household Income After Taxes Median Household Income After Taxes\n",
       "count                                 6.00                                6.00\n",
       "mean                             63,320.78                           50,195.42\n",
       "std                              11,316.85                           13,920.67\n",
       "min                              40,925.00                           22,542.00\n",
       "25%                              65,813.00                           53,150.25\n",
       "50%                              66,593.50                           53,368.50\n",
       "75%                              66,889.25                           56,540.62\n",
       "max                              73,272.00                           61,218.00"
      ]
     },
     "execution_count": 51,
     "metadata": {},
     "output_type": "execute_result"
    }
   ],
   "source": [
    "dfinc.describe().applymap('{:,.2f}'.format)"
   ]
  },
  {
   "cell_type": "code",
   "execution_count": 91,
   "id": "b4ab1f43-885b-447c-b7da-2c7220437ca8",
   "metadata": {},
   "outputs": [
    {
     "name": "stderr",
     "output_type": "stream",
     "text": [
      "/Users/justin/miniforge3/lib/python3.10/site-packages/altair/utils/data.py:226: AltairDeprecationWarning: alt.pipe() is deprecated, and will be removed in a future release. Use toolz.curried.pipe() instead.\n",
      "  warnings.warn(\n",
      "/Users/justin/miniforge3/lib/python3.10/site-packages/altair/utils/core.py:283: FutureWarning: iteritems is deprecated and will be removed in a future version. Use .items instead.\n",
      "  for col_name, dtype in df.dtypes.iteritems():\n"
     ]
    },
    {
     "data": {
      "text/html": [
       "\n",
       "<div id=\"altair-viz-a3b34b9cd035422fbbe9fd8e8103acee\"></div>\n",
       "<script type=\"text/javascript\">\n",
       "  (function(spec, embedOpt){\n",
       "    let outputDiv = document.currentScript.previousElementSibling;\n",
       "    if (outputDiv.id !== \"altair-viz-a3b34b9cd035422fbbe9fd8e8103acee\") {\n",
       "      outputDiv = document.getElementById(\"altair-viz-a3b34b9cd035422fbbe9fd8e8103acee\");\n",
       "    }\n",
       "    const paths = {\n",
       "      \"vega\": \"https://cdn.jsdelivr.net/npm//vega@5?noext\",\n",
       "      \"vega-lib\": \"https://cdn.jsdelivr.net/npm//vega-lib?noext\",\n",
       "      \"vega-lite\": \"https://cdn.jsdelivr.net/npm//vega-lite@4.8.1?noext\",\n",
       "      \"vega-embed\": \"https://cdn.jsdelivr.net/npm//vega-embed@6?noext\",\n",
       "    };\n",
       "\n",
       "    function loadScript(lib) {\n",
       "      return new Promise(function(resolve, reject) {\n",
       "        var s = document.createElement('script');\n",
       "        s.src = paths[lib];\n",
       "        s.async = true;\n",
       "        s.onload = () => resolve(paths[lib]);\n",
       "        s.onerror = () => reject(`Error loading script: ${paths[lib]}`);\n",
       "        document.getElementsByTagName(\"head\")[0].appendChild(s);\n",
       "      });\n",
       "    }\n",
       "\n",
       "    function showError(err) {\n",
       "      outputDiv.innerHTML = `<div class=\"error\" style=\"color:red;\">${err}</div>`;\n",
       "      throw err;\n",
       "    }\n",
       "\n",
       "    function displayChart(vegaEmbed) {\n",
       "      vegaEmbed(outputDiv, spec, embedOpt)\n",
       "        .catch(err => showError(`Javascript Error: ${err.message}<br>This usually means there's a typo in your chart specification. See the javascript console for the full traceback.`));\n",
       "    }\n",
       "\n",
       "    if(typeof define === \"function\" && define.amd) {\n",
       "      requirejs.config({paths});\n",
       "      require([\"vega-embed\"], displayChart, err => showError(`Error loading script: ${err.message}`));\n",
       "    } else if (typeof vegaEmbed === \"function\") {\n",
       "      displayChart(vegaEmbed);\n",
       "    } else {\n",
       "      loadScript(\"vega\")\n",
       "        .then(() => loadScript(\"vega-lite\"))\n",
       "        .then(() => loadScript(\"vega-embed\"))\n",
       "        .catch(showError)\n",
       "        .then(() => displayChart(vegaEmbed));\n",
       "    }\n",
       "  })({\"config\": {\"view\": {\"continuousWidth\": 400, \"continuousHeight\": 300}}, \"data\": {\"name\": \"data-c33e61d1b7fe2c7b287bc6ceb151cd65\"}, \"mark\": {\"type\": \"bar\", \"opacity\": 1}, \"encoding\": {\"x\": {\"type\": \"quantitative\", \"field\": \"Average Household Income After Taxes\"}, \"y\": {\"type\": \"nominal\", \"field\": \"index\", \"sort\": \"-x\"}}, \"$schema\": \"https://vega.github.io/schema/vega-lite/v4.8.1.json\", \"datasets\": {\"data-c33e61d1b7fe2c7b287bc6ceb151cd65\": [{\"level_0\": 0, \"index\": \"Central Business District\", \"Average Household Income After Taxes\": 65646.67, \"Median Household Income After Taxes\": 53574.0}, {\"level_0\": 1, \"index\": \"Strathcona\", \"Average Household Income After Taxes\": 40925.0, \"Median Household Income After Taxes\": 22542.0}, {\"level_0\": 2, \"index\": \"Hastings-Sunrise\", \"Average Household Income After Taxes\": 66312.0, \"Median Household Income After Taxes\": 53146.0}, {\"level_0\": 3, \"index\": \"Renfrew-Collingwood\", \"Average Household Income After Taxes\": 66894.0, \"Median Household Income After Taxes\": 57529.5}, {\"level_0\": 4, \"index\": \"Victoria-Fraserview\", \"Average Household Income After Taxes\": 73272.0, \"Median Household Income After Taxes\": 61218.0}, {\"level_0\": 5, \"index\": \"Fairview\", \"Average Household Income After Taxes\": 66875.0, \"Median Household Income After Taxes\": 53163.0}]}}, {\"mode\": \"vega-lite\"});\n",
       "</script>"
      ],
      "text/plain": [
       "alt.Chart(...)"
      ]
     },
     "execution_count": 91,
     "metadata": {},
     "output_type": "execute_result"
    }
   ],
   "source": [
    "dfinc2 = dfinc.reset_index()\n",
    "\n",
    "y = alt.Chart(dfinc2).mark_bar(opacity=1).encode(\n",
    "    x='Average Household Income After Taxes',\n",
    "    y=alt.Y('index', sort='-x')\n",
    ")\n",
    "\n",
    "y"
   ]
  },
  {
   "cell_type": "markdown",
   "id": "538334b5-d1e4-46e7-a303-321486b3a7d6",
   "metadata": {},
   "source": [
    "**Crime Type by Neighbourhood**"
   ]
  },
  {
   "cell_type": "code",
   "execution_count": 57,
   "id": "0b4e9198-bfbf-437c-88d4-a7002d1b9d66",
   "metadata": {},
   "outputs": [
    {
     "data": {
      "text/html": [
       "<div>\n",
       "<style scoped>\n",
       "    .dataframe tbody tr th:only-of-type {\n",
       "        vertical-align: middle;\n",
       "    }\n",
       "\n",
       "    .dataframe tbody tr th {\n",
       "        vertical-align: top;\n",
       "    }\n",
       "\n",
       "    .dataframe thead th {\n",
       "        text-align: right;\n",
       "    }\n",
       "</style>\n",
       "<table border=\"1\" class=\"dataframe\">\n",
       "  <thead>\n",
       "    <tr style=\"text-align: right;\">\n",
       "      <th>TYPE</th>\n",
       "      <th>Break and Enter Commercial</th>\n",
       "      <th>Break and Enter Residential/Other</th>\n",
       "      <th>Homicide</th>\n",
       "      <th>Mischief</th>\n",
       "      <th>Offence Against a Person</th>\n",
       "      <th>Other Theft</th>\n",
       "      <th>Theft from Vehicle</th>\n",
       "      <th>Theft of Bicycle</th>\n",
       "      <th>Theft of Vehicle</th>\n",
       "      <th>Vehicle Collision or Pedestrian Struck (with Fatality)</th>\n",
       "      <th>Vehicle Collision or Pedestrian Struck (with Injury)</th>\n",
       "    </tr>\n",
       "    <tr>\n",
       "      <th>NEIGHBOURHOOD</th>\n",
       "      <th></th>\n",
       "      <th></th>\n",
       "      <th></th>\n",
       "      <th></th>\n",
       "      <th></th>\n",
       "      <th></th>\n",
       "      <th></th>\n",
       "      <th></th>\n",
       "      <th></th>\n",
       "      <th></th>\n",
       "      <th></th>\n",
       "    </tr>\n",
       "  </thead>\n",
       "  <tbody>\n",
       "    <tr>\n",
       "      <th>Central Business District</th>\n",
       "      <td>2108</td>\n",
       "      <td>365</td>\n",
       "      <td>15</td>\n",
       "      <td>5956</td>\n",
       "      <td>3902</td>\n",
       "      <td>8697</td>\n",
       "      <td>7242</td>\n",
       "      <td>1066</td>\n",
       "      <td>275</td>\n",
       "      <td>7</td>\n",
       "      <td>453</td>\n",
       "    </tr>\n",
       "    <tr>\n",
       "      <th>Fairview</th>\n",
       "      <td>573</td>\n",
       "      <td>195</td>\n",
       "      <td>0</td>\n",
       "      <td>747</td>\n",
       "      <td>292</td>\n",
       "      <td>1402</td>\n",
       "      <td>1303</td>\n",
       "      <td>639</td>\n",
       "      <td>111</td>\n",
       "      <td>1</td>\n",
       "      <td>124</td>\n",
       "    </tr>\n",
       "    <tr>\n",
       "      <th>Hastings-Sunrise</th>\n",
       "      <td>163</td>\n",
       "      <td>269</td>\n",
       "      <td>3</td>\n",
       "      <td>636</td>\n",
       "      <td>297</td>\n",
       "      <td>542</td>\n",
       "      <td>1098</td>\n",
       "      <td>93</td>\n",
       "      <td>158</td>\n",
       "      <td>1</td>\n",
       "      <td>151</td>\n",
       "    </tr>\n",
       "    <tr>\n",
       "      <th>Renfrew-Collingwood</th>\n",
       "      <td>177</td>\n",
       "      <td>250</td>\n",
       "      <td>1</td>\n",
       "      <td>682</td>\n",
       "      <td>414</td>\n",
       "      <td>3143</td>\n",
       "      <td>1334</td>\n",
       "      <td>149</td>\n",
       "      <td>207</td>\n",
       "      <td>2</td>\n",
       "      <td>211</td>\n",
       "    </tr>\n",
       "    <tr>\n",
       "      <th>Strathcona</th>\n",
       "      <td>464</td>\n",
       "      <td>292</td>\n",
       "      <td>8</td>\n",
       "      <td>1680</td>\n",
       "      <td>1721</td>\n",
       "      <td>1789</td>\n",
       "      <td>1482</td>\n",
       "      <td>236</td>\n",
       "      <td>235</td>\n",
       "      <td>8</td>\n",
       "      <td>175</td>\n",
       "    </tr>\n",
       "    <tr>\n",
       "      <th>Victoria-Fraserview</th>\n",
       "      <td>62</td>\n",
       "      <td>111</td>\n",
       "      <td>2</td>\n",
       "      <td>279</td>\n",
       "      <td>161</td>\n",
       "      <td>399</td>\n",
       "      <td>581</td>\n",
       "      <td>48</td>\n",
       "      <td>94</td>\n",
       "      <td>1</td>\n",
       "      <td>116</td>\n",
       "    </tr>\n",
       "  </tbody>\n",
       "</table>\n",
       "</div>"
      ],
      "text/plain": [
       "TYPE                       Break and Enter Commercial  \\\n",
       "NEIGHBOURHOOD                                           \n",
       "Central Business District                        2108   \n",
       "Fairview                                          573   \n",
       "Hastings-Sunrise                                  163   \n",
       "Renfrew-Collingwood                               177   \n",
       "Strathcona                                        464   \n",
       "Victoria-Fraserview                                62   \n",
       "\n",
       "TYPE                       Break and Enter Residential/Other  Homicide  \\\n",
       "NEIGHBOURHOOD                                                            \n",
       "Central Business District                                365        15   \n",
       "Fairview                                                 195         0   \n",
       "Hastings-Sunrise                                         269         3   \n",
       "Renfrew-Collingwood                                      250         1   \n",
       "Strathcona                                               292         8   \n",
       "Victoria-Fraserview                                      111         2   \n",
       "\n",
       "TYPE                       Mischief  Offence Against a Person  Other Theft  \\\n",
       "NEIGHBOURHOOD                                                                \n",
       "Central Business District      5956                      3902         8697   \n",
       "Fairview                        747                       292         1402   \n",
       "Hastings-Sunrise                636                       297          542   \n",
       "Renfrew-Collingwood             682                       414         3143   \n",
       "Strathcona                     1680                      1721         1789   \n",
       "Victoria-Fraserview             279                       161          399   \n",
       "\n",
       "TYPE                       Theft from Vehicle  Theft of Bicycle  \\\n",
       "NEIGHBOURHOOD                                                     \n",
       "Central Business District                7242              1066   \n",
       "Fairview                                 1303               639   \n",
       "Hastings-Sunrise                         1098                93   \n",
       "Renfrew-Collingwood                      1334               149   \n",
       "Strathcona                               1482               236   \n",
       "Victoria-Fraserview                       581                48   \n",
       "\n",
       "TYPE                       Theft of Vehicle  \\\n",
       "NEIGHBOURHOOD                                 \n",
       "Central Business District               275   \n",
       "Fairview                                111   \n",
       "Hastings-Sunrise                        158   \n",
       "Renfrew-Collingwood                     207   \n",
       "Strathcona                              235   \n",
       "Victoria-Fraserview                      94   \n",
       "\n",
       "TYPE                       Vehicle Collision or Pedestrian Struck (with Fatality)  \\\n",
       "NEIGHBOURHOOD                                                                       \n",
       "Central Business District                                                  7        \n",
       "Fairview                                                                   1        \n",
       "Hastings-Sunrise                                                           1        \n",
       "Renfrew-Collingwood                                                        2        \n",
       "Strathcona                                                                 8        \n",
       "Victoria-Fraserview                                                        1        \n",
       "\n",
       "TYPE                       Vehicle Collision or Pedestrian Struck (with Injury)  \n",
       "NEIGHBOURHOOD                                                                    \n",
       "Central Business District                                                453     \n",
       "Fairview                                                                 124     \n",
       "Hastings-Sunrise                                                         151     \n",
       "Renfrew-Collingwood                                                      211     \n",
       "Strathcona                                                               175     \n",
       "Victoria-Fraserview                                                      116     "
      ]
     },
     "execution_count": 57,
     "metadata": {},
     "output_type": "execute_result"
    }
   ],
   "source": [
    "pd.crosstab(index=df['NEIGHBOURHOOD'], columns = df['TYPE'])"
   ]
  },
  {
   "cell_type": "code",
   "execution_count": 58,
   "id": "b6ac918d-a9c9-48ac-b67f-c8baac4bc5ed",
   "metadata": {},
   "outputs": [
    {
     "name": "stderr",
     "output_type": "stream",
     "text": [
      "/Users/justin/miniforge3/lib/python3.10/site-packages/altair/utils/data.py:226: AltairDeprecationWarning: alt.pipe() is deprecated, and will be removed in a future release. Use toolz.curried.pipe() instead.\n",
      "  warnings.warn(\n",
      "/Users/justin/miniforge3/lib/python3.10/site-packages/altair/utils/core.py:283: FutureWarning: iteritems is deprecated and will be removed in a future version. Use .items instead.\n",
      "  for col_name, dtype in df.dtypes.iteritems():\n"
     ]
    },
    {
     "data": {
      "text/html": [
       "\n",
       "<div id=\"altair-viz-aab1245996824bd18982cf3b67e52e6b\"></div>\n",
       "<script type=\"text/javascript\">\n",
       "  (function(spec, embedOpt){\n",
       "    let outputDiv = document.currentScript.previousElementSibling;\n",
       "    if (outputDiv.id !== \"altair-viz-aab1245996824bd18982cf3b67e52e6b\") {\n",
       "      outputDiv = document.getElementById(\"altair-viz-aab1245996824bd18982cf3b67e52e6b\");\n",
       "    }\n",
       "    const paths = {\n",
       "      \"vega\": \"https://cdn.jsdelivr.net/npm//vega@5?noext\",\n",
       "      \"vega-lib\": \"https://cdn.jsdelivr.net/npm//vega-lib?noext\",\n",
       "      \"vega-lite\": \"https://cdn.jsdelivr.net/npm//vega-lite@4.8.1?noext\",\n",
       "      \"vega-embed\": \"https://cdn.jsdelivr.net/npm//vega-embed@6?noext\",\n",
       "    };\n",
       "\n",
       "    function loadScript(lib) {\n",
       "      return new Promise(function(resolve, reject) {\n",
       "        var s = document.createElement('script');\n",
       "        s.src = paths[lib];\n",
       "        s.async = true;\n",
       "        s.onload = () => resolve(paths[lib]);\n",
       "        s.onerror = () => reject(`Error loading script: ${paths[lib]}`);\n",
       "        document.getElementsByTagName(\"head\")[0].appendChild(s);\n",
       "      });\n",
       "    }\n",
       "\n",
       "    function showError(err) {\n",
       "      outputDiv.innerHTML = `<div class=\"error\" style=\"color:red;\">${err}</div>`;\n",
       "      throw err;\n",
       "    }\n",
       "\n",
       "    function displayChart(vegaEmbed) {\n",
       "      vegaEmbed(outputDiv, spec, embedOpt)\n",
       "        .catch(err => showError(`Javascript Error: ${err.message}<br>This usually means there's a typo in your chart specification. See the javascript console for the full traceback.`));\n",
       "    }\n",
       "\n",
       "    if(typeof define === \"function\" && define.amd) {\n",
       "      requirejs.config({paths});\n",
       "      require([\"vega-embed\"], displayChart, err => showError(`Error loading script: ${err.message}`));\n",
       "    } else if (typeof vegaEmbed === \"function\") {\n",
       "      displayChart(vegaEmbed);\n",
       "    } else {\n",
       "      loadScript(\"vega\")\n",
       "        .then(() => loadScript(\"vega-lite\"))\n",
       "        .then(() => loadScript(\"vega-embed\"))\n",
       "        .catch(showError)\n",
       "        .then(() => displayChart(vegaEmbed));\n",
       "    }\n",
       "  })({\"config\": {\"view\": {\"continuousWidth\": 400, \"continuousHeight\": 300}}, \"data\": {\"name\": \"data-f833e4c3e674adf3343166be590df25f\"}, \"mark\": \"bar\", \"encoding\": {\"color\": {\"type\": \"nominal\", \"field\": \"TYPE\"}, \"x\": {\"type\": \"quantitative\", \"field\": \"counts\"}, \"y\": {\"type\": \"nominal\", \"field\": \"NEIGHBOURHOOD\", \"sort\": \"-x\"}}, \"$schema\": \"https://vega.github.io/schema/vega-lite/v4.8.1.json\", \"datasets\": {\"data-f833e4c3e674adf3343166be590df25f\": [{\"NEIGHBOURHOOD\": \"Central Business District\", \"TYPE\": \"Break and Enter Commercial\", \"counts\": 2108}, {\"NEIGHBOURHOOD\": \"Central Business District\", \"TYPE\": \"Break and Enter Residential/Other\", \"counts\": 365}, {\"NEIGHBOURHOOD\": \"Central Business District\", \"TYPE\": \"Homicide\", \"counts\": 15}, {\"NEIGHBOURHOOD\": \"Central Business District\", \"TYPE\": \"Mischief\", \"counts\": 5956}, {\"NEIGHBOURHOOD\": \"Central Business District\", \"TYPE\": \"Offence Against a Person\", \"counts\": 3902}, {\"NEIGHBOURHOOD\": \"Central Business District\", \"TYPE\": \"Other Theft\", \"counts\": 8697}, {\"NEIGHBOURHOOD\": \"Central Business District\", \"TYPE\": \"Theft from Vehicle\", \"counts\": 7242}, {\"NEIGHBOURHOOD\": \"Central Business District\", \"TYPE\": \"Theft of Bicycle\", \"counts\": 1066}, {\"NEIGHBOURHOOD\": \"Central Business District\", \"TYPE\": \"Theft of Vehicle\", \"counts\": 275}, {\"NEIGHBOURHOOD\": \"Central Business District\", \"TYPE\": \"Vehicle Collision or Pedestrian Struck (with Fatality)\", \"counts\": 7}, {\"NEIGHBOURHOOD\": \"Central Business District\", \"TYPE\": \"Vehicle Collision or Pedestrian Struck (with Injury)\", \"counts\": 453}, {\"NEIGHBOURHOOD\": \"Fairview\", \"TYPE\": \"Break and Enter Commercial\", \"counts\": 573}, {\"NEIGHBOURHOOD\": \"Fairview\", \"TYPE\": \"Break and Enter Residential/Other\", \"counts\": 195}, {\"NEIGHBOURHOOD\": \"Fairview\", \"TYPE\": \"Mischief\", \"counts\": 747}, {\"NEIGHBOURHOOD\": \"Fairview\", \"TYPE\": \"Offence Against a Person\", \"counts\": 292}, {\"NEIGHBOURHOOD\": \"Fairview\", \"TYPE\": \"Other Theft\", \"counts\": 1402}, {\"NEIGHBOURHOOD\": \"Fairview\", \"TYPE\": \"Theft from Vehicle\", \"counts\": 1303}, {\"NEIGHBOURHOOD\": \"Fairview\", \"TYPE\": \"Theft of Bicycle\", \"counts\": 639}, {\"NEIGHBOURHOOD\": \"Fairview\", \"TYPE\": \"Theft of Vehicle\", \"counts\": 111}, {\"NEIGHBOURHOOD\": \"Fairview\", \"TYPE\": \"Vehicle Collision or Pedestrian Struck (with Fatality)\", \"counts\": 1}, {\"NEIGHBOURHOOD\": \"Fairview\", \"TYPE\": \"Vehicle Collision or Pedestrian Struck (with Injury)\", \"counts\": 124}, {\"NEIGHBOURHOOD\": \"Hastings-Sunrise\", \"TYPE\": \"Break and Enter Commercial\", \"counts\": 163}, {\"NEIGHBOURHOOD\": \"Hastings-Sunrise\", \"TYPE\": \"Break and Enter Residential/Other\", \"counts\": 269}, {\"NEIGHBOURHOOD\": \"Hastings-Sunrise\", \"TYPE\": \"Homicide\", \"counts\": 3}, {\"NEIGHBOURHOOD\": \"Hastings-Sunrise\", \"TYPE\": \"Mischief\", \"counts\": 636}, {\"NEIGHBOURHOOD\": \"Hastings-Sunrise\", \"TYPE\": \"Offence Against a Person\", \"counts\": 297}, {\"NEIGHBOURHOOD\": \"Hastings-Sunrise\", \"TYPE\": \"Other Theft\", \"counts\": 542}, {\"NEIGHBOURHOOD\": \"Hastings-Sunrise\", \"TYPE\": \"Theft from Vehicle\", \"counts\": 1098}, {\"NEIGHBOURHOOD\": \"Hastings-Sunrise\", \"TYPE\": \"Theft of Bicycle\", \"counts\": 93}, {\"NEIGHBOURHOOD\": \"Hastings-Sunrise\", \"TYPE\": \"Theft of Vehicle\", \"counts\": 158}, {\"NEIGHBOURHOOD\": \"Hastings-Sunrise\", \"TYPE\": \"Vehicle Collision or Pedestrian Struck (with Fatality)\", \"counts\": 1}, {\"NEIGHBOURHOOD\": \"Hastings-Sunrise\", \"TYPE\": \"Vehicle Collision or Pedestrian Struck (with Injury)\", \"counts\": 151}, {\"NEIGHBOURHOOD\": \"Renfrew-Collingwood\", \"TYPE\": \"Break and Enter Commercial\", \"counts\": 177}, {\"NEIGHBOURHOOD\": \"Renfrew-Collingwood\", \"TYPE\": \"Break and Enter Residential/Other\", \"counts\": 250}, {\"NEIGHBOURHOOD\": \"Renfrew-Collingwood\", \"TYPE\": \"Homicide\", \"counts\": 1}, {\"NEIGHBOURHOOD\": \"Renfrew-Collingwood\", \"TYPE\": \"Mischief\", \"counts\": 682}, {\"NEIGHBOURHOOD\": \"Renfrew-Collingwood\", \"TYPE\": \"Offence Against a Person\", \"counts\": 414}, {\"NEIGHBOURHOOD\": \"Renfrew-Collingwood\", \"TYPE\": \"Other Theft\", \"counts\": 3143}, {\"NEIGHBOURHOOD\": \"Renfrew-Collingwood\", \"TYPE\": \"Theft from Vehicle\", \"counts\": 1334}, {\"NEIGHBOURHOOD\": \"Renfrew-Collingwood\", \"TYPE\": \"Theft of Bicycle\", \"counts\": 149}, {\"NEIGHBOURHOOD\": \"Renfrew-Collingwood\", \"TYPE\": \"Theft of Vehicle\", \"counts\": 207}, {\"NEIGHBOURHOOD\": \"Renfrew-Collingwood\", \"TYPE\": \"Vehicle Collision or Pedestrian Struck (with Fatality)\", \"counts\": 2}, {\"NEIGHBOURHOOD\": \"Renfrew-Collingwood\", \"TYPE\": \"Vehicle Collision or Pedestrian Struck (with Injury)\", \"counts\": 211}, {\"NEIGHBOURHOOD\": \"Strathcona\", \"TYPE\": \"Break and Enter Commercial\", \"counts\": 464}, {\"NEIGHBOURHOOD\": \"Strathcona\", \"TYPE\": \"Break and Enter Residential/Other\", \"counts\": 292}, {\"NEIGHBOURHOOD\": \"Strathcona\", \"TYPE\": \"Homicide\", \"counts\": 8}, {\"NEIGHBOURHOOD\": \"Strathcona\", \"TYPE\": \"Mischief\", \"counts\": 1680}, {\"NEIGHBOURHOOD\": \"Strathcona\", \"TYPE\": \"Offence Against a Person\", \"counts\": 1721}, {\"NEIGHBOURHOOD\": \"Strathcona\", \"TYPE\": \"Other Theft\", \"counts\": 1789}, {\"NEIGHBOURHOOD\": \"Strathcona\", \"TYPE\": \"Theft from Vehicle\", \"counts\": 1482}, {\"NEIGHBOURHOOD\": \"Strathcona\", \"TYPE\": \"Theft of Bicycle\", \"counts\": 236}, {\"NEIGHBOURHOOD\": \"Strathcona\", \"TYPE\": \"Theft of Vehicle\", \"counts\": 235}, {\"NEIGHBOURHOOD\": \"Strathcona\", \"TYPE\": \"Vehicle Collision or Pedestrian Struck (with Fatality)\", \"counts\": 8}, {\"NEIGHBOURHOOD\": \"Strathcona\", \"TYPE\": \"Vehicle Collision or Pedestrian Struck (with Injury)\", \"counts\": 175}, {\"NEIGHBOURHOOD\": \"Victoria-Fraserview\", \"TYPE\": \"Break and Enter Commercial\", \"counts\": 62}, {\"NEIGHBOURHOOD\": \"Victoria-Fraserview\", \"TYPE\": \"Break and Enter Residential/Other\", \"counts\": 111}, {\"NEIGHBOURHOOD\": \"Victoria-Fraserview\", \"TYPE\": \"Homicide\", \"counts\": 2}, {\"NEIGHBOURHOOD\": \"Victoria-Fraserview\", \"TYPE\": \"Mischief\", \"counts\": 279}, {\"NEIGHBOURHOOD\": \"Victoria-Fraserview\", \"TYPE\": \"Offence Against a Person\", \"counts\": 161}, {\"NEIGHBOURHOOD\": \"Victoria-Fraserview\", \"TYPE\": \"Other Theft\", \"counts\": 399}, {\"NEIGHBOURHOOD\": \"Victoria-Fraserview\", \"TYPE\": \"Theft from Vehicle\", \"counts\": 581}, {\"NEIGHBOURHOOD\": \"Victoria-Fraserview\", \"TYPE\": \"Theft of Bicycle\", \"counts\": 48}, {\"NEIGHBOURHOOD\": \"Victoria-Fraserview\", \"TYPE\": \"Theft of Vehicle\", \"counts\": 94}, {\"NEIGHBOURHOOD\": \"Victoria-Fraserview\", \"TYPE\": \"Vehicle Collision or Pedestrian Struck (with Fatality)\", \"counts\": 1}, {\"NEIGHBOURHOOD\": \"Victoria-Fraserview\", \"TYPE\": \"Vehicle Collision or Pedestrian Struck (with Injury)\", \"counts\": 116}]}}, {\"mode\": \"vega-lite\"});\n",
       "</script>"
      ],
      "text/plain": [
       "alt.Chart(...)"
      ]
     },
     "execution_count": 58,
     "metadata": {},
     "output_type": "execute_result"
    }
   ],
   "source": [
    "## Crime types by neighborhood\n",
    "\n",
    "# Group the data by neighborhood and crime type, and count the number of crimes in each category\n",
    "crime_types = df.groupby(['NEIGHBOURHOOD', 'TYPE']).size().reset_index(name='counts')\n",
    "\n",
    "# Create a stacked bar chart showing the crime types by neighborhood\n",
    "x = alt.Chart(crime_types).mark_bar().encode(\n",
    "    x='counts',\n",
    "    y=alt.Y('NEIGHBOURHOOD:N', sort='-x'),\n",
    "    color='TYPE:N'\n",
    ")\n",
    "x"
   ]
  },
  {
   "cell_type": "code",
   "execution_count": 93,
   "id": "148b1a08-16ff-4640-bd31-1a8ad79a54fe",
   "metadata": {},
   "outputs": [
    {
     "data": {
      "text/html": [
       "\n",
       "<div id=\"altair-viz-19b14a15f1fd44a2800e7302bd802c2e\"></div>\n",
       "<script type=\"text/javascript\">\n",
       "  (function(spec, embedOpt){\n",
       "    let outputDiv = document.currentScript.previousElementSibling;\n",
       "    if (outputDiv.id !== \"altair-viz-19b14a15f1fd44a2800e7302bd802c2e\") {\n",
       "      outputDiv = document.getElementById(\"altair-viz-19b14a15f1fd44a2800e7302bd802c2e\");\n",
       "    }\n",
       "    const paths = {\n",
       "      \"vega\": \"https://cdn.jsdelivr.net/npm//vega@5?noext\",\n",
       "      \"vega-lib\": \"https://cdn.jsdelivr.net/npm//vega-lib?noext\",\n",
       "      \"vega-lite\": \"https://cdn.jsdelivr.net/npm//vega-lite@4.8.1?noext\",\n",
       "      \"vega-embed\": \"https://cdn.jsdelivr.net/npm//vega-embed@6?noext\",\n",
       "    };\n",
       "\n",
       "    function loadScript(lib) {\n",
       "      return new Promise(function(resolve, reject) {\n",
       "        var s = document.createElement('script');\n",
       "        s.src = paths[lib];\n",
       "        s.async = true;\n",
       "        s.onload = () => resolve(paths[lib]);\n",
       "        s.onerror = () => reject(`Error loading script: ${paths[lib]}`);\n",
       "        document.getElementsByTagName(\"head\")[0].appendChild(s);\n",
       "      });\n",
       "    }\n",
       "\n",
       "    function showError(err) {\n",
       "      outputDiv.innerHTML = `<div class=\"error\" style=\"color:red;\">${err}</div>`;\n",
       "      throw err;\n",
       "    }\n",
       "\n",
       "    function displayChart(vegaEmbed) {\n",
       "      vegaEmbed(outputDiv, spec, embedOpt)\n",
       "        .catch(err => showError(`Javascript Error: ${err.message}<br>This usually means there's a typo in your chart specification. See the javascript console for the full traceback.`));\n",
       "    }\n",
       "\n",
       "    if(typeof define === \"function\" && define.amd) {\n",
       "      requirejs.config({paths});\n",
       "      require([\"vega-embed\"], displayChart, err => showError(`Error loading script: ${err.message}`));\n",
       "    } else if (typeof vegaEmbed === \"function\") {\n",
       "      displayChart(vegaEmbed);\n",
       "    } else {\n",
       "      loadScript(\"vega\")\n",
       "        .then(() => loadScript(\"vega-lite\"))\n",
       "        .then(() => loadScript(\"vega-embed\"))\n",
       "        .catch(showError)\n",
       "        .then(() => displayChart(vegaEmbed));\n",
       "    }\n",
       "  })({\"config\": {\"view\": {\"continuousWidth\": 400, \"continuousHeight\": 300}}, \"layer\": [{\"data\": {\"name\": \"data-c33e61d1b7fe2c7b287bc6ceb151cd65\"}, \"mark\": {\"type\": \"bar\", \"opacity\": 0.5}, \"encoding\": {\"x\": {\"type\": \"quantitative\", \"field\": \"Median Household Income After Taxes\"}, \"y\": {\"type\": \"nominal\", \"field\": \"index\", \"sort\": \"-x\"}}}, {\"data\": {\"name\": \"data-f833e4c3e674adf3343166be590df25f\"}, \"mark\": \"bar\", \"encoding\": {\"color\": {\"type\": \"nominal\", \"field\": \"TYPE\"}, \"x\": {\"type\": \"quantitative\", \"field\": \"counts\"}, \"y\": {\"type\": \"nominal\", \"field\": \"NEIGHBOURHOOD\", \"sort\": \"-x\"}}}], \"$schema\": \"https://vega.github.io/schema/vega-lite/v4.8.1.json\", \"datasets\": {\"data-c33e61d1b7fe2c7b287bc6ceb151cd65\": [{\"level_0\": 0, \"index\": \"Central Business District\", \"Average Household Income After Taxes\": 65646.67, \"Median Household Income After Taxes\": 53574.0}, {\"level_0\": 1, \"index\": \"Strathcona\", \"Average Household Income After Taxes\": 40925.0, \"Median Household Income After Taxes\": 22542.0}, {\"level_0\": 2, \"index\": \"Hastings-Sunrise\", \"Average Household Income After Taxes\": 66312.0, \"Median Household Income After Taxes\": 53146.0}, {\"level_0\": 3, \"index\": \"Renfrew-Collingwood\", \"Average Household Income After Taxes\": 66894.0, \"Median Household Income After Taxes\": 57529.5}, {\"level_0\": 4, \"index\": \"Victoria-Fraserview\", \"Average Household Income After Taxes\": 73272.0, \"Median Household Income After Taxes\": 61218.0}, {\"level_0\": 5, \"index\": \"Fairview\", \"Average Household Income After Taxes\": 66875.0, \"Median Household Income After Taxes\": 53163.0}], \"data-f833e4c3e674adf3343166be590df25f\": [{\"NEIGHBOURHOOD\": \"Central Business District\", \"TYPE\": \"Break and Enter Commercial\", \"counts\": 2108}, {\"NEIGHBOURHOOD\": \"Central Business District\", \"TYPE\": \"Break and Enter Residential/Other\", \"counts\": 365}, {\"NEIGHBOURHOOD\": \"Central Business District\", \"TYPE\": \"Homicide\", \"counts\": 15}, {\"NEIGHBOURHOOD\": \"Central Business District\", \"TYPE\": \"Mischief\", \"counts\": 5956}, {\"NEIGHBOURHOOD\": \"Central Business District\", \"TYPE\": \"Offence Against a Person\", \"counts\": 3902}, {\"NEIGHBOURHOOD\": \"Central Business District\", \"TYPE\": \"Other Theft\", \"counts\": 8697}, {\"NEIGHBOURHOOD\": \"Central Business District\", \"TYPE\": \"Theft from Vehicle\", \"counts\": 7242}, {\"NEIGHBOURHOOD\": \"Central Business District\", \"TYPE\": \"Theft of Bicycle\", \"counts\": 1066}, {\"NEIGHBOURHOOD\": \"Central Business District\", \"TYPE\": \"Theft of Vehicle\", \"counts\": 275}, {\"NEIGHBOURHOOD\": \"Central Business District\", \"TYPE\": \"Vehicle Collision or Pedestrian Struck (with Fatality)\", \"counts\": 7}, {\"NEIGHBOURHOOD\": \"Central Business District\", \"TYPE\": \"Vehicle Collision or Pedestrian Struck (with Injury)\", \"counts\": 453}, {\"NEIGHBOURHOOD\": \"Fairview\", \"TYPE\": \"Break and Enter Commercial\", \"counts\": 573}, {\"NEIGHBOURHOOD\": \"Fairview\", \"TYPE\": \"Break and Enter Residential/Other\", \"counts\": 195}, {\"NEIGHBOURHOOD\": \"Fairview\", \"TYPE\": \"Mischief\", \"counts\": 747}, {\"NEIGHBOURHOOD\": \"Fairview\", \"TYPE\": \"Offence Against a Person\", \"counts\": 292}, {\"NEIGHBOURHOOD\": \"Fairview\", \"TYPE\": \"Other Theft\", \"counts\": 1402}, {\"NEIGHBOURHOOD\": \"Fairview\", \"TYPE\": \"Theft from Vehicle\", \"counts\": 1303}, {\"NEIGHBOURHOOD\": \"Fairview\", \"TYPE\": \"Theft of Bicycle\", \"counts\": 639}, {\"NEIGHBOURHOOD\": \"Fairview\", \"TYPE\": \"Theft of Vehicle\", \"counts\": 111}, {\"NEIGHBOURHOOD\": \"Fairview\", \"TYPE\": \"Vehicle Collision or Pedestrian Struck (with Fatality)\", \"counts\": 1}, {\"NEIGHBOURHOOD\": \"Fairview\", \"TYPE\": \"Vehicle Collision or Pedestrian Struck (with Injury)\", \"counts\": 124}, {\"NEIGHBOURHOOD\": \"Hastings-Sunrise\", \"TYPE\": \"Break and Enter Commercial\", \"counts\": 163}, {\"NEIGHBOURHOOD\": \"Hastings-Sunrise\", \"TYPE\": \"Break and Enter Residential/Other\", \"counts\": 269}, {\"NEIGHBOURHOOD\": \"Hastings-Sunrise\", \"TYPE\": \"Homicide\", \"counts\": 3}, {\"NEIGHBOURHOOD\": \"Hastings-Sunrise\", \"TYPE\": \"Mischief\", \"counts\": 636}, {\"NEIGHBOURHOOD\": \"Hastings-Sunrise\", \"TYPE\": \"Offence Against a Person\", \"counts\": 297}, {\"NEIGHBOURHOOD\": \"Hastings-Sunrise\", \"TYPE\": \"Other Theft\", \"counts\": 542}, {\"NEIGHBOURHOOD\": \"Hastings-Sunrise\", \"TYPE\": \"Theft from Vehicle\", \"counts\": 1098}, {\"NEIGHBOURHOOD\": \"Hastings-Sunrise\", \"TYPE\": \"Theft of Bicycle\", \"counts\": 93}, {\"NEIGHBOURHOOD\": \"Hastings-Sunrise\", \"TYPE\": \"Theft of Vehicle\", \"counts\": 158}, {\"NEIGHBOURHOOD\": \"Hastings-Sunrise\", \"TYPE\": \"Vehicle Collision or Pedestrian Struck (with Fatality)\", \"counts\": 1}, {\"NEIGHBOURHOOD\": \"Hastings-Sunrise\", \"TYPE\": \"Vehicle Collision or Pedestrian Struck (with Injury)\", \"counts\": 151}, {\"NEIGHBOURHOOD\": \"Renfrew-Collingwood\", \"TYPE\": \"Break and Enter Commercial\", \"counts\": 177}, {\"NEIGHBOURHOOD\": \"Renfrew-Collingwood\", \"TYPE\": \"Break and Enter Residential/Other\", \"counts\": 250}, {\"NEIGHBOURHOOD\": \"Renfrew-Collingwood\", \"TYPE\": \"Homicide\", \"counts\": 1}, {\"NEIGHBOURHOOD\": \"Renfrew-Collingwood\", \"TYPE\": \"Mischief\", \"counts\": 682}, {\"NEIGHBOURHOOD\": \"Renfrew-Collingwood\", \"TYPE\": \"Offence Against a Person\", \"counts\": 414}, {\"NEIGHBOURHOOD\": \"Renfrew-Collingwood\", \"TYPE\": \"Other Theft\", \"counts\": 3143}, {\"NEIGHBOURHOOD\": \"Renfrew-Collingwood\", \"TYPE\": \"Theft from Vehicle\", \"counts\": 1334}, {\"NEIGHBOURHOOD\": \"Renfrew-Collingwood\", \"TYPE\": \"Theft of Bicycle\", \"counts\": 149}, {\"NEIGHBOURHOOD\": \"Renfrew-Collingwood\", \"TYPE\": \"Theft of Vehicle\", \"counts\": 207}, {\"NEIGHBOURHOOD\": \"Renfrew-Collingwood\", \"TYPE\": \"Vehicle Collision or Pedestrian Struck (with Fatality)\", \"counts\": 2}, {\"NEIGHBOURHOOD\": \"Renfrew-Collingwood\", \"TYPE\": \"Vehicle Collision or Pedestrian Struck (with Injury)\", \"counts\": 211}, {\"NEIGHBOURHOOD\": \"Strathcona\", \"TYPE\": \"Break and Enter Commercial\", \"counts\": 464}, {\"NEIGHBOURHOOD\": \"Strathcona\", \"TYPE\": \"Break and Enter Residential/Other\", \"counts\": 292}, {\"NEIGHBOURHOOD\": \"Strathcona\", \"TYPE\": \"Homicide\", \"counts\": 8}, {\"NEIGHBOURHOOD\": \"Strathcona\", \"TYPE\": \"Mischief\", \"counts\": 1680}, {\"NEIGHBOURHOOD\": \"Strathcona\", \"TYPE\": \"Offence Against a Person\", \"counts\": 1721}, {\"NEIGHBOURHOOD\": \"Strathcona\", \"TYPE\": \"Other Theft\", \"counts\": 1789}, {\"NEIGHBOURHOOD\": \"Strathcona\", \"TYPE\": \"Theft from Vehicle\", \"counts\": 1482}, {\"NEIGHBOURHOOD\": \"Strathcona\", \"TYPE\": \"Theft of Bicycle\", \"counts\": 236}, {\"NEIGHBOURHOOD\": \"Strathcona\", \"TYPE\": \"Theft of Vehicle\", \"counts\": 235}, {\"NEIGHBOURHOOD\": \"Strathcona\", \"TYPE\": \"Vehicle Collision or Pedestrian Struck (with Fatality)\", \"counts\": 8}, {\"NEIGHBOURHOOD\": \"Strathcona\", \"TYPE\": \"Vehicle Collision or Pedestrian Struck (with Injury)\", \"counts\": 175}, {\"NEIGHBOURHOOD\": \"Victoria-Fraserview\", \"TYPE\": \"Break and Enter Commercial\", \"counts\": 62}, {\"NEIGHBOURHOOD\": \"Victoria-Fraserview\", \"TYPE\": \"Break and Enter Residential/Other\", \"counts\": 111}, {\"NEIGHBOURHOOD\": \"Victoria-Fraserview\", \"TYPE\": \"Homicide\", \"counts\": 2}, {\"NEIGHBOURHOOD\": \"Victoria-Fraserview\", \"TYPE\": \"Mischief\", \"counts\": 279}, {\"NEIGHBOURHOOD\": \"Victoria-Fraserview\", \"TYPE\": \"Offence Against a Person\", \"counts\": 161}, {\"NEIGHBOURHOOD\": \"Victoria-Fraserview\", \"TYPE\": \"Other Theft\", \"counts\": 399}, {\"NEIGHBOURHOOD\": \"Victoria-Fraserview\", \"TYPE\": \"Theft from Vehicle\", \"counts\": 581}, {\"NEIGHBOURHOOD\": \"Victoria-Fraserview\", \"TYPE\": \"Theft of Bicycle\", \"counts\": 48}, {\"NEIGHBOURHOOD\": \"Victoria-Fraserview\", \"TYPE\": \"Theft of Vehicle\", \"counts\": 94}, {\"NEIGHBOURHOOD\": \"Victoria-Fraserview\", \"TYPE\": \"Vehicle Collision or Pedestrian Struck (with Fatality)\", \"counts\": 1}, {\"NEIGHBOURHOOD\": \"Victoria-Fraserview\", \"TYPE\": \"Vehicle Collision or Pedestrian Struck (with Injury)\", \"counts\": 116}]}}, {\"mode\": \"vega-lite\"});\n",
       "</script>"
      ],
      "text/plain": [
       "alt.LayerChart(...)"
      ]
     },
     "execution_count": 93,
     "metadata": {},
     "output_type": "execute_result"
    }
   ],
   "source": [
    "## Crime types by neighborhood + median income\n",
    "y = alt.Chart(dfinc2).mark_bar(opacity=0.5).encode(\n",
    "    x='Median Household Income After Taxes',\n",
    "    y=alt.Y('index', sort='-x')\n",
    ")\n",
    "\n",
    "y\n",
    "\n",
    "\n",
    "# Create a stacked bar chart showing the crime types by neighborhood\n",
    "alt.layer(y, x)"
   ]
  }
 ],
 "metadata": {
  "kernelspec": {
   "display_name": "Python 3 (ipykernel)",
   "language": "python",
   "name": "python3"
  },
  "language_info": {
   "codemirror_mode": {
    "name": "ipython",
    "version": 3
   },
   "file_extension": ".py",
   "mimetype": "text/x-python",
   "name": "python",
   "nbconvert_exporter": "python",
   "pygments_lexer": "ipython3",
   "version": "3.10.9"
  }
 },
 "nbformat": 4,
 "nbformat_minor": 5
}
