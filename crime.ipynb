{
 "cells": [
  {
   "cell_type": "code",
   "execution_count": 1,
   "id": "8fa4d03d-ee60-4160-97b0-f3640dab1987",
   "metadata": {},
   "outputs": [],
   "source": [
    "import glob\n",
    "import os\n",
    "import pandas as pd\n",
    "import altair as alt\n",
    "import calendar\n",
    "import datetime\n",
    "from altair import pipe, limit_rows, to_values"
   ]
  },
  {
   "cell_type": "code",
   "execution_count": 2,
   "id": "8e523208-05b5-4ecc-9a50-cb6e4530ed94",
   "metadata": {},
   "outputs": [],
   "source": [
    "# # Set the directory where the CSV files are located\n",
    "# dir_path = \".\"\n",
    "\n",
    "# # Get all the CSV files in the directory\n",
    "# all_files = glob.glob(os.path.join(dir_path, \"*.csv\"))\n",
    "\n",
    "# # Combine the CSV files into a single DataFrame\n",
    "# df = pd.concat((pd.read_csv(f) for f in all_files))\n",
    "\n",
    "# # Save the combined DataFrame to a new CSV file\n",
    "# df.to_csv(\"combined.csv\", index=False)"
   ]
  },
  {
   "cell_type": "markdown",
   "id": "3f58482b-1e36-4ca4-a7b4-40cd55290230",
   "metadata": {},
   "source": [
    "# Crime Analysis\n",
    "\n",
    "By: Benjamin Chang, Sandra Radic, and Justin Kung\n",
    "\n",
    "## Abstract\n",
    "\n",
    "The project includes analyzing the Vancouver Crime dataset, which contains information on crime types, location, date, and time, as well as demographic data from the Vancouver 2016 census dataset.\n",
    "\n",
    "## Introduction\n",
    "\n",
    "We made this project so Sandra can walk home without crying.\n",
    "Tasks include analyzing temporal and spatial patterns in crime activity, exploring crime type distribution, visualizing crime activity on a map, and comparing crime rates across different neighbourhoods and crime types. \n",
    "**TODO: Input the specific viz's we choose for each task**"
   ]
  },
  {
   "cell_type": "code",
   "execution_count": 3,
   "id": "5a372400-aa14-4174-b7c6-25b32581c78c",
   "metadata": {},
   "outputs": [],
   "source": [
    "# Read in the data\n",
    "url = 'https://raw.githubusercontent.com/sgskung/crime320/main/combined.csv'\n",
    "df = pd.read_csv(url)"
   ]
  },
  {
   "cell_type": "code",
   "execution_count": 4,
   "id": "2192e3be-d609-42ff-ac07-ad1993cd58ad",
   "metadata": {},
   "outputs": [],
   "source": [
    "# Creating necessary variables\n",
    "df['DATE'] = pd.to_datetime(df[['YEAR', 'MONTH', 'DAY']])"
   ]
  },
  {
   "cell_type": "code",
   "execution_count": 5,
   "id": "f143b48b-10ec-4ec5-b7a3-a13a356f726f",
   "metadata": {},
   "outputs": [
    {
     "data": {
      "text/plain": [
       "DataTransformerRegistry.enable('custom')"
      ]
     },
     "execution_count": 5,
     "metadata": {},
     "output_type": "execute_result"
    }
   ],
   "source": [
    "# Change the max_rows limit of altair because our dataset is 55,000 rows.\n",
    "t = lambda data: pipe(data, limit_rows(max_rows=60000), to_values)\n",
    "alt.data_transformers.register('custom', t)\n",
    "alt.data_transformers.enable('custom')"
   ]
  },
  {
   "cell_type": "markdown",
   "id": "3b463030-04d9-4bf8-ad29-6ed665753d08",
   "metadata": {},
   "source": [
    "## Preliminary Data Analysis"
   ]
  },
  {
   "cell_type": "code",
   "execution_count": 6,
   "id": "56a36383-8a62-4c61-a4cb-f2dcc134c562",
   "metadata": {},
   "outputs": [
    {
     "name": "stdout",
     "output_type": "stream",
     "text": [
      "<class 'pandas.core.frame.DataFrame'>\n",
      "RangeIndex: 55398 entries, 0 to 55397\n",
      "Data columns (total 11 columns):\n",
      " #   Column         Non-Null Count  Dtype         \n",
      "---  ------         --------------  -----         \n",
      " 0   TYPE           55398 non-null  object        \n",
      " 1   YEAR           55398 non-null  int64         \n",
      " 2   MONTH          55398 non-null  int64         \n",
      " 3   DAY            55398 non-null  int64         \n",
      " 4   HOUR           55398 non-null  int64         \n",
      " 5   MINUTE         55398 non-null  int64         \n",
      " 6   HUNDRED_BLOCK  55398 non-null  object        \n",
      " 7   NEIGHBOURHOOD  55398 non-null  object        \n",
      " 8   X              55398 non-null  float64       \n",
      " 9   Y              55398 non-null  float64       \n",
      " 10  DATE           55398 non-null  datetime64[ns]\n",
      "dtypes: datetime64[ns](1), float64(2), int64(5), object(3)\n",
      "memory usage: 4.6+ MB\n"
     ]
    }
   ],
   "source": [
    "df.info()"
   ]
  },
  {
   "cell_type": "code",
   "execution_count": 7,
   "id": "186dac5a-f4b4-411a-9a05-aff8fbb9539e",
   "metadata": {},
   "outputs": [
    {
     "name": "stdout",
     "output_type": "stream",
     "text": [
      "Total number of rows: 55398\n",
      "Unique crime types: 11\n",
      "['Theft from Vehicle' 'Theft of Bicycle' 'Theft of Vehicle'\n",
      " 'Vehicle Collision or Pedestrian Struck (with Fatality)'\n",
      " 'Vehicle Collision or Pedestrian Struck (with Injury)'\n",
      " 'Break and Enter Commercial' 'Break and Enter Residential/Other'\n",
      " 'Homicide' 'Mischief' 'Offence Against a Person' 'Other Theft']\n"
     ]
    }
   ],
   "source": [
    "# Total number of rows\n",
    "print(\"Total number of rows:\", len(df))\n",
    "\n",
    "# Unique values in TYPE column\n",
    "print(\"Unique crime types:\", df['TYPE'].nunique())\n",
    "print(df['TYPE'].unique())"
   ]
  },
  {
   "cell_type": "code",
   "execution_count": 8,
   "id": "cc5e3c7b-943e-4929-aa45-7104b9896ded",
   "metadata": {},
   "outputs": [
    {
     "name": "stdout",
     "output_type": "stream",
     "text": [
      "NEIGHBOURHOOD\n",
      "Central Business District    30086\n",
      "Strathcona                    8090\n",
      "Renfrew-Collingwood           6570\n",
      "Fairview                      5387\n",
      "Hastings-Sunrise              3411\n",
      "Victoria-Fraserview           1854\n",
      "dtype: int64\n",
      "Number of crimes in Downtown: 0\n"
     ]
    }
   ],
   "source": [
    "# Count of crimes by neighbourhood\n",
    "print(df.groupby('NEIGHBOURHOOD').size().sort_values(ascending=False))\n",
    "\n",
    "# Number of crimes in Downtown neighbourhood\n",
    "print(\"Number of crimes in Downtown:\", len(df[df['NEIGHBOURHOOD'] == 'Downtown']))"
   ]
  },
  {
   "cell_type": "code",
   "execution_count": 9,
   "id": "2abe1748-c798-422a-9ea5-f7f5628fc4fb",
   "metadata": {},
   "outputs": [
    {
     "name": "stdout",
     "output_type": "stream",
     "text": [
      "YEAR\n",
      "2020    19683\n",
      "2022    18807\n",
      "2021    16908\n",
      "dtype: int64\n",
      "Number of crimes in 2016: 0\n"
     ]
    }
   ],
   "source": [
    "# Count of crimes by year\n",
    "print(df.groupby('YEAR').size().sort_values(ascending=False))\n",
    "\n",
    "# Number of crimes in 2016\n",
    "print(\"Number of crimes in 2016:\", len(df[df['YEAR'] == 2016]))"
   ]
  },
  {
   "cell_type": "code",
   "execution_count": 12,
   "id": "a99cb569-3521-4112-87ae-fcd58d01feec",
   "metadata": {},
   "outputs": [
    {
     "name": "stdout",
     "output_type": "stream",
     "text": [
      "HOUR\n",
      "0     9643\n",
      "18    2993\n",
      "17    2982\n",
      "16    2710\n",
      "12    2665\n",
      "19    2640\n",
      "15    2544\n",
      "20    2495\n",
      "14    2414\n",
      "22    2271\n",
      "13    2209\n",
      "21    2166\n",
      "11    2003\n",
      "10    1943\n",
      "23    1883\n",
      "9     1809\n",
      "8     1633\n",
      "1     1447\n",
      "7     1275\n",
      "2     1239\n",
      "3     1171\n",
      "4     1138\n",
      "5     1078\n",
      "6     1047\n",
      "dtype: int64\n",
      "Most frequent hour for crimes: 0\n"
     ]
    }
   ],
   "source": [
    "# Count of crimes by hour\n",
    "print(df.groupby('HOUR').size().sort_values(ascending=False))\n",
    "\n",
    "# Most frequent hour for crimes\n",
    "print(\"Most frequent hour for crimes:\", df['HOUR'].mode().values[0])"
   ]
  },
  {
   "cell_type": "markdown",
   "id": "6d831a1d-589b-4668-9e3a-50ededcb8bfc",
   "metadata": {},
   "source": [
    "## Exploratory Data Analysis\n",
    "Lowkey some of these could be viz's themselves and we just use the preliminary analysis as our EDA."
   ]
  },
  {
   "cell_type": "code",
   "execution_count": 13,
   "id": "202e6120-9dc7-4ae8-97d4-435fe59ce5de",
   "metadata": {},
   "outputs": [
    {
     "name": "stderr",
     "output_type": "stream",
     "text": [
      "/Users/justin/miniforge3/lib/python3.10/site-packages/altair/utils/data.py:226: AltairDeprecationWarning: alt.pipe() is deprecated, and will be removed in a future release. Use toolz.curried.pipe() instead.\n",
      "  warnings.warn(\n",
      "/Users/justin/miniforge3/lib/python3.10/site-packages/altair/utils/core.py:283: FutureWarning: iteritems is deprecated and will be removed in a future version. Use .items instead.\n",
      "  for col_name, dtype in df.dtypes.iteritems():\n"
     ]
    },
    {
     "data": {
      "text/html": [
       "\n",
       "<div id=\"altair-viz-bd254a50cbc247fd80934a16f9b94146\"></div>\n",
       "<script type=\"text/javascript\">\n",
       "  (function(spec, embedOpt){\n",
       "    let outputDiv = document.currentScript.previousElementSibling;\n",
       "    if (outputDiv.id !== \"altair-viz-bd254a50cbc247fd80934a16f9b94146\") {\n",
       "      outputDiv = document.getElementById(\"altair-viz-bd254a50cbc247fd80934a16f9b94146\");\n",
       "    }\n",
       "    const paths = {\n",
       "      \"vega\": \"https://cdn.jsdelivr.net/npm//vega@5?noext\",\n",
       "      \"vega-lib\": \"https://cdn.jsdelivr.net/npm//vega-lib?noext\",\n",
       "      \"vega-lite\": \"https://cdn.jsdelivr.net/npm//vega-lite@4.8.1?noext\",\n",
       "      \"vega-embed\": \"https://cdn.jsdelivr.net/npm//vega-embed@6?noext\",\n",
       "    };\n",
       "\n",
       "    function loadScript(lib) {\n",
       "      return new Promise(function(resolve, reject) {\n",
       "        var s = document.createElement('script');\n",
       "        s.src = paths[lib];\n",
       "        s.async = true;\n",
       "        s.onload = () => resolve(paths[lib]);\n",
       "        s.onerror = () => reject(`Error loading script: ${paths[lib]}`);\n",
       "        document.getElementsByTagName(\"head\")[0].appendChild(s);\n",
       "      });\n",
       "    }\n",
       "\n",
       "    function showError(err) {\n",
       "      outputDiv.innerHTML = `<div class=\"error\" style=\"color:red;\">${err}</div>`;\n",
       "      throw err;\n",
       "    }\n",
       "\n",
       "    function displayChart(vegaEmbed) {\n",
       "      vegaEmbed(outputDiv, spec, embedOpt)\n",
       "        .catch(err => showError(`Javascript Error: ${err.message}<br>This usually means there's a typo in your chart specification. See the javascript console for the full traceback.`));\n",
       "    }\n",
       "\n",
       "    if(typeof define === \"function\" && define.amd) {\n",
       "      requirejs.config({paths});\n",
       "      require([\"vega-embed\"], displayChart, err => showError(`Error loading script: ${err.message}`));\n",
       "    } else if (typeof vegaEmbed === \"function\") {\n",
       "      displayChart(vegaEmbed);\n",
       "    } else {\n",
       "      loadScript(\"vega\")\n",
       "        .then(() => loadScript(\"vega-lite\"))\n",
       "        .then(() => loadScript(\"vega-embed\"))\n",
       "        .catch(showError)\n",
       "        .then(() => displayChart(vegaEmbed));\n",
       "    }\n",
       "  })({\"config\": {\"view\": {\"continuousWidth\": 400, \"continuousHeight\": 300}}, \"data\": {\"name\": \"data-46fdcbb35ada6151e0b9231dbad9b087\"}, \"mark\": \"bar\", \"encoding\": {\"x\": {\"type\": \"quantitative\", \"field\": \"counts\"}, \"y\": {\"type\": \"nominal\", \"field\": \"NEIGHBOURHOOD\", \"sort\": \"-x\"}}, \"$schema\": \"https://vega.github.io/schema/vega-lite/v4.8.1.json\", \"datasets\": {\"data-46fdcbb35ada6151e0b9231dbad9b087\": [{\"NEIGHBOURHOOD\": \"Central Business District\", \"counts\": 30086}, {\"NEIGHBOURHOOD\": \"Fairview\", \"counts\": 5387}, {\"NEIGHBOURHOOD\": \"Hastings-Sunrise\", \"counts\": 3411}, {\"NEIGHBOURHOOD\": \"Renfrew-Collingwood\", \"counts\": 6570}, {\"NEIGHBOURHOOD\": \"Strathcona\", \"counts\": 8090}, {\"NEIGHBOURHOOD\": \"Victoria-Fraserview\", \"counts\": 1854}]}}, {\"mode\": \"vega-lite\"});\n",
       "</script>"
      ],
      "text/plain": [
       "alt.Chart(...)"
      ]
     },
     "execution_count": 13,
     "metadata": {},
     "output_type": "execute_result"
    }
   ],
   "source": [
    "## Crime counts by neighborhood\n",
    "\n",
    "# Group the data by neighborhood and count the number of crimes in each neighborhood\n",
    "crime_counts = df.groupby('NEIGHBOURHOOD').size().reset_index(name='counts')\n",
    "\n",
    "# Create a bar chart showing the crime counts by neighborhood\n",
    "chart = alt.Chart(crime_counts).mark_bar().encode(\n",
    "    x='counts',\n",
    "    y=alt.Y('NEIGHBOURHOOD:N', sort='-x'),\n",
    ")\n",
    "\n",
    "chart"
   ]
  },
  {
   "cell_type": "code",
   "execution_count": 14,
   "id": "975dc214-5161-41d1-af20-f4edf5a36ac1",
   "metadata": {},
   "outputs": [
    {
     "name": "stderr",
     "output_type": "stream",
     "text": [
      "/Users/justin/miniforge3/lib/python3.10/site-packages/altair/utils/data.py:226: AltairDeprecationWarning: alt.pipe() is deprecated, and will be removed in a future release. Use toolz.curried.pipe() instead.\n",
      "  warnings.warn(\n",
      "/Users/justin/miniforge3/lib/python3.10/site-packages/altair/utils/core.py:283: FutureWarning: iteritems is deprecated and will be removed in a future version. Use .items instead.\n",
      "  for col_name, dtype in df.dtypes.iteritems():\n"
     ]
    },
    {
     "data": {
      "text/html": [
       "\n",
       "<div id=\"altair-viz-55b1117e3acd41daa91d03f782c91cdc\"></div>\n",
       "<script type=\"text/javascript\">\n",
       "  (function(spec, embedOpt){\n",
       "    let outputDiv = document.currentScript.previousElementSibling;\n",
       "    if (outputDiv.id !== \"altair-viz-55b1117e3acd41daa91d03f782c91cdc\") {\n",
       "      outputDiv = document.getElementById(\"altair-viz-55b1117e3acd41daa91d03f782c91cdc\");\n",
       "    }\n",
       "    const paths = {\n",
       "      \"vega\": \"https://cdn.jsdelivr.net/npm//vega@5?noext\",\n",
       "      \"vega-lib\": \"https://cdn.jsdelivr.net/npm//vega-lib?noext\",\n",
       "      \"vega-lite\": \"https://cdn.jsdelivr.net/npm//vega-lite@4.8.1?noext\",\n",
       "      \"vega-embed\": \"https://cdn.jsdelivr.net/npm//vega-embed@6?noext\",\n",
       "    };\n",
       "\n",
       "    function loadScript(lib) {\n",
       "      return new Promise(function(resolve, reject) {\n",
       "        var s = document.createElement('script');\n",
       "        s.src = paths[lib];\n",
       "        s.async = true;\n",
       "        s.onload = () => resolve(paths[lib]);\n",
       "        s.onerror = () => reject(`Error loading script: ${paths[lib]}`);\n",
       "        document.getElementsByTagName(\"head\")[0].appendChild(s);\n",
       "      });\n",
       "    }\n",
       "\n",
       "    function showError(err) {\n",
       "      outputDiv.innerHTML = `<div class=\"error\" style=\"color:red;\">${err}</div>`;\n",
       "      throw err;\n",
       "    }\n",
       "\n",
       "    function displayChart(vegaEmbed) {\n",
       "      vegaEmbed(outputDiv, spec, embedOpt)\n",
       "        .catch(err => showError(`Javascript Error: ${err.message}<br>This usually means there's a typo in your chart specification. See the javascript console for the full traceback.`));\n",
       "    }\n",
       "\n",
       "    if(typeof define === \"function\" && define.amd) {\n",
       "      requirejs.config({paths});\n",
       "      require([\"vega-embed\"], displayChart, err => showError(`Error loading script: ${err.message}`));\n",
       "    } else if (typeof vegaEmbed === \"function\") {\n",
       "      displayChart(vegaEmbed);\n",
       "    } else {\n",
       "      loadScript(\"vega\")\n",
       "        .then(() => loadScript(\"vega-lite\"))\n",
       "        .then(() => loadScript(\"vega-embed\"))\n",
       "        .catch(showError)\n",
       "        .then(() => displayChart(vegaEmbed));\n",
       "    }\n",
       "  })({\"config\": {\"view\": {\"continuousWidth\": 400, \"continuousHeight\": 300}}, \"data\": {\"name\": \"data-ee80c8ca26bc07f3a6f201e9356820f6\"}, \"mark\": \"bar\", \"encoding\": {\"x\": {\"type\": \"quantitative\", \"field\": \"counts\"}, \"y\": {\"type\": \"nominal\", \"field\": \"TYPE\", \"sort\": \"-x\"}}, \"$schema\": \"https://vega.github.io/schema/vega-lite/v4.8.1.json\", \"datasets\": {\"data-ee80c8ca26bc07f3a6f201e9356820f6\": [{\"TYPE\": \"Break and Enter Commercial\", \"counts\": 3547}, {\"TYPE\": \"Break and Enter Residential/Other\", \"counts\": 1482}, {\"TYPE\": \"Homicide\", \"counts\": 29}, {\"TYPE\": \"Mischief\", \"counts\": 9980}, {\"TYPE\": \"Offence Against a Person\", \"counts\": 6787}, {\"TYPE\": \"Other Theft\", \"counts\": 15972}, {\"TYPE\": \"Theft from Vehicle\", \"counts\": 13040}, {\"TYPE\": \"Theft of Bicycle\", \"counts\": 2231}, {\"TYPE\": \"Theft of Vehicle\", \"counts\": 1080}, {\"TYPE\": \"Vehicle Collision or Pedestrian Struck (with Fatality)\", \"counts\": 20}, {\"TYPE\": \"Vehicle Collision or Pedestrian Struck (with Injury)\", \"counts\": 1230}]}}, {\"mode\": \"vega-lite\"});\n",
       "</script>"
      ],
      "text/plain": [
       "alt.Chart(...)"
      ]
     },
     "execution_count": 14,
     "metadata": {},
     "output_type": "execute_result"
    }
   ],
   "source": [
    "## Crime counts by neighborhood\n",
    "\n",
    "# Group the data by neighborhood and count the number of crimes in each neighborhood\n",
    "crime_counts = df.groupby('TYPE').size().reset_index(name='counts')\n",
    "\n",
    "# Create a bar chart showing the crime counts by neighborhood\n",
    "chart = alt.Chart(crime_counts).mark_bar().encode(\n",
    "    x='counts',\n",
    "    y=alt.Y('TYPE:N', sort='-x'),\n",
    ")\n",
    "\n",
    "chart"
   ]
  },
  {
   "cell_type": "code",
   "execution_count": 15,
   "id": "caf017da-2da4-4d83-b436-914a44931424",
   "metadata": {},
   "outputs": [
    {
     "name": "stderr",
     "output_type": "stream",
     "text": [
      "/Users/justin/miniforge3/lib/python3.10/site-packages/altair/utils/data.py:226: AltairDeprecationWarning: alt.pipe() is deprecated, and will be removed in a future release. Use toolz.curried.pipe() instead.\n",
      "  warnings.warn(\n",
      "/Users/justin/miniforge3/lib/python3.10/site-packages/altair/utils/core.py:283: FutureWarning: iteritems is deprecated and will be removed in a future version. Use .items instead.\n",
      "  for col_name, dtype in df.dtypes.iteritems():\n"
     ]
    },
    {
     "data": {
      "text/html": [
       "\n",
       "<div id=\"altair-viz-a23814e14c704c9291c2f1323577bf73\"></div>\n",
       "<script type=\"text/javascript\">\n",
       "  (function(spec, embedOpt){\n",
       "    let outputDiv = document.currentScript.previousElementSibling;\n",
       "    if (outputDiv.id !== \"altair-viz-a23814e14c704c9291c2f1323577bf73\") {\n",
       "      outputDiv = document.getElementById(\"altair-viz-a23814e14c704c9291c2f1323577bf73\");\n",
       "    }\n",
       "    const paths = {\n",
       "      \"vega\": \"https://cdn.jsdelivr.net/npm//vega@5?noext\",\n",
       "      \"vega-lib\": \"https://cdn.jsdelivr.net/npm//vega-lib?noext\",\n",
       "      \"vega-lite\": \"https://cdn.jsdelivr.net/npm//vega-lite@4.8.1?noext\",\n",
       "      \"vega-embed\": \"https://cdn.jsdelivr.net/npm//vega-embed@6?noext\",\n",
       "    };\n",
       "\n",
       "    function loadScript(lib) {\n",
       "      return new Promise(function(resolve, reject) {\n",
       "        var s = document.createElement('script');\n",
       "        s.src = paths[lib];\n",
       "        s.async = true;\n",
       "        s.onload = () => resolve(paths[lib]);\n",
       "        s.onerror = () => reject(`Error loading script: ${paths[lib]}`);\n",
       "        document.getElementsByTagName(\"head\")[0].appendChild(s);\n",
       "      });\n",
       "    }\n",
       "\n",
       "    function showError(err) {\n",
       "      outputDiv.innerHTML = `<div class=\"error\" style=\"color:red;\">${err}</div>`;\n",
       "      throw err;\n",
       "    }\n",
       "\n",
       "    function displayChart(vegaEmbed) {\n",
       "      vegaEmbed(outputDiv, spec, embedOpt)\n",
       "        .catch(err => showError(`Javascript Error: ${err.message}<br>This usually means there's a typo in your chart specification. See the javascript console for the full traceback.`));\n",
       "    }\n",
       "\n",
       "    if(typeof define === \"function\" && define.amd) {\n",
       "      requirejs.config({paths});\n",
       "      require([\"vega-embed\"], displayChart, err => showError(`Error loading script: ${err.message}`));\n",
       "    } else if (typeof vegaEmbed === \"function\") {\n",
       "      displayChart(vegaEmbed);\n",
       "    } else {\n",
       "      loadScript(\"vega\")\n",
       "        .then(() => loadScript(\"vega-lite\"))\n",
       "        .then(() => loadScript(\"vega-embed\"))\n",
       "        .catch(showError)\n",
       "        .then(() => displayChart(vegaEmbed));\n",
       "    }\n",
       "  })({\"config\": {\"view\": {\"continuousWidth\": 400, \"continuousHeight\": 300}}, \"data\": {\"name\": \"data-1d3a39676b478aed1b646b885b6a365b\"}, \"mark\": \"bar\", \"encoding\": {\"x\": {\"type\": \"quantitative\", \"field\": \"count\", \"title\": \"Crime Count\"}, \"y\": {\"type\": \"nominal\", \"field\": \"WEEKDAY\", \"sort\": [\"Monday\", \"Tuesday\", \"Wednesday\", \"Thursday\", \"Friday\", \"Saturday\", \"Sunday\"], \"title\": \"Day of the Week\"}}, \"title\": \"Crime count by day of the week\", \"$schema\": \"https://vega.github.io/schema/vega-lite/v4.8.1.json\", \"datasets\": {\"data-1d3a39676b478aed1b646b885b6a365b\": [{\"WEEKDAY\": \"Friday\", \"count\": 8236}, {\"WEEKDAY\": \"Monday\", \"count\": 7993}, {\"WEEKDAY\": \"Saturday\", \"count\": 8314}, {\"WEEKDAY\": \"Sunday\", \"count\": 7848}, {\"WEEKDAY\": \"Thursday\", \"count\": 7834}, {\"WEEKDAY\": \"Tuesday\", \"count\": 7636}, {\"WEEKDAY\": \"Wednesday\", \"count\": 7537}]}}, {\"mode\": \"vega-lite\"});\n",
       "</script>"
      ],
      "text/plain": [
       "alt.Chart(...)"
      ]
     },
     "execution_count": 15,
     "metadata": {},
     "output_type": "execute_result"
    }
   ],
   "source": [
    "## Crime count by day of the week\n",
    "df['WEEKDAY'] = df.apply(lambda x: calendar.day_name[datetime.date(x['YEAR'], x['MONTH'], x['DAY']).weekday()], axis=1)\n",
    "\n",
    "weekday_count = df.groupby('WEEKDAY')['WEEKDAY'].count().reset_index(name='count')\n",
    "bars = alt.Chart(weekday_count).mark_bar().encode(\n",
    "    x=alt.X('count', title='Crime Count'),\n",
    "    y=alt.Y('WEEKDAY', sort=['Monday', 'Tuesday', 'Wednesday', 'Thursday', 'Friday', 'Saturday', 'Sunday'], title='Day of the Week')\n",
    ").properties(title='Crime count by day of the week')\n",
    "bars\n"
   ]
  },
  {
   "cell_type": "code",
   "execution_count": 16,
   "id": "61e03a02-abfb-4dc4-96f1-e3084c0af638",
   "metadata": {},
   "outputs": [
    {
     "name": "stderr",
     "output_type": "stream",
     "text": [
      "/Users/justin/miniforge3/lib/python3.10/site-packages/altair/utils/data.py:226: AltairDeprecationWarning: alt.pipe() is deprecated, and will be removed in a future release. Use toolz.curried.pipe() instead.\n",
      "  warnings.warn(\n",
      "/Users/justin/miniforge3/lib/python3.10/site-packages/altair/utils/core.py:283: FutureWarning: iteritems is deprecated and will be removed in a future version. Use .items instead.\n",
      "  for col_name, dtype in df.dtypes.iteritems():\n"
     ]
    },
    {
     "data": {
      "text/html": [
       "\n",
       "<div id=\"altair-viz-8c95adbdd100419fad6558d631569cc5\"></div>\n",
       "<script type=\"text/javascript\">\n",
       "  (function(spec, embedOpt){\n",
       "    let outputDiv = document.currentScript.previousElementSibling;\n",
       "    if (outputDiv.id !== \"altair-viz-8c95adbdd100419fad6558d631569cc5\") {\n",
       "      outputDiv = document.getElementById(\"altair-viz-8c95adbdd100419fad6558d631569cc5\");\n",
       "    }\n",
       "    const paths = {\n",
       "      \"vega\": \"https://cdn.jsdelivr.net/npm//vega@5?noext\",\n",
       "      \"vega-lib\": \"https://cdn.jsdelivr.net/npm//vega-lib?noext\",\n",
       "      \"vega-lite\": \"https://cdn.jsdelivr.net/npm//vega-lite@4.8.1?noext\",\n",
       "      \"vega-embed\": \"https://cdn.jsdelivr.net/npm//vega-embed@6?noext\",\n",
       "    };\n",
       "\n",
       "    function loadScript(lib) {\n",
       "      return new Promise(function(resolve, reject) {\n",
       "        var s = document.createElement('script');\n",
       "        s.src = paths[lib];\n",
       "        s.async = true;\n",
       "        s.onload = () => resolve(paths[lib]);\n",
       "        s.onerror = () => reject(`Error loading script: ${paths[lib]}`);\n",
       "        document.getElementsByTagName(\"head\")[0].appendChild(s);\n",
       "      });\n",
       "    }\n",
       "\n",
       "    function showError(err) {\n",
       "      outputDiv.innerHTML = `<div class=\"error\" style=\"color:red;\">${err}</div>`;\n",
       "      throw err;\n",
       "    }\n",
       "\n",
       "    function displayChart(vegaEmbed) {\n",
       "      vegaEmbed(outputDiv, spec, embedOpt)\n",
       "        .catch(err => showError(`Javascript Error: ${err.message}<br>This usually means there's a typo in your chart specification. See the javascript console for the full traceback.`));\n",
       "    }\n",
       "\n",
       "    if(typeof define === \"function\" && define.amd) {\n",
       "      requirejs.config({paths});\n",
       "      require([\"vega-embed\"], displayChart, err => showError(`Error loading script: ${err.message}`));\n",
       "    } else if (typeof vegaEmbed === \"function\") {\n",
       "      displayChart(vegaEmbed);\n",
       "    } else {\n",
       "      loadScript(\"vega\")\n",
       "        .then(() => loadScript(\"vega-lite\"))\n",
       "        .then(() => loadScript(\"vega-embed\"))\n",
       "        .catch(showError)\n",
       "        .then(() => displayChart(vegaEmbed));\n",
       "    }\n",
       "  })({\"config\": {\"view\": {\"continuousWidth\": 400, \"continuousHeight\": 300}}, \"data\": {\"name\": \"data-845b14c27404bcdd554bba99f7264489\"}, \"mark\": \"line\", \"encoding\": {\"x\": {\"type\": \"temporal\", \"field\": \"year-month\"}, \"y\": {\"type\": \"quantitative\", \"field\": \"COUNT\"}}, \"$schema\": \"https://vega.github.io/schema/vega-lite/v4.8.1.json\", \"datasets\": {\"data-845b14c27404bcdd554bba99f7264489\": [{\"year-month\": \"2020-01-01T00:00:00\", \"COUNT\": 2214}, {\"year-month\": \"2020-02-01T00:00:00\", \"COUNT\": 2125}, {\"year-month\": \"2020-03-01T00:00:00\", \"COUNT\": 2025}, {\"year-month\": \"2020-04-01T00:00:00\", \"COUNT\": 1590}, {\"year-month\": \"2020-05-01T00:00:00\", \"COUNT\": 1162}, {\"year-month\": \"2020-06-01T00:00:00\", \"COUNT\": 1245}, {\"year-month\": \"2020-07-01T00:00:00\", \"COUNT\": 1476}, {\"year-month\": \"2020-08-01T00:00:00\", \"COUNT\": 1673}, {\"year-month\": \"2020-09-01T00:00:00\", \"COUNT\": 1575}, {\"year-month\": \"2020-10-01T00:00:00\", \"COUNT\": 1740}, {\"year-month\": \"2020-11-01T00:00:00\", \"COUNT\": 1449}, {\"year-month\": \"2020-12-01T00:00:00\", \"COUNT\": 1409}, {\"year-month\": \"2021-01-01T00:00:00\", \"COUNT\": 1524}, {\"year-month\": \"2021-02-01T00:00:00\", \"COUNT\": 1280}, {\"year-month\": \"2021-03-01T00:00:00\", \"COUNT\": 1260}, {\"year-month\": \"2021-04-01T00:00:00\", \"COUNT\": 1295}, {\"year-month\": \"2021-05-01T00:00:00\", \"COUNT\": 1369}, {\"year-month\": \"2021-06-01T00:00:00\", \"COUNT\": 1300}, {\"year-month\": \"2021-07-01T00:00:00\", \"COUNT\": 1498}, {\"year-month\": \"2021-08-01T00:00:00\", \"COUNT\": 1570}, {\"year-month\": \"2021-09-01T00:00:00\", \"COUNT\": 1467}, {\"year-month\": \"2021-10-01T00:00:00\", \"COUNT\": 1432}, {\"year-month\": \"2021-11-01T00:00:00\", \"COUNT\": 1554}, {\"year-month\": \"2021-12-01T00:00:00\", \"COUNT\": 1359}, {\"year-month\": \"2022-01-01T00:00:00\", \"COUNT\": 1500}, {\"year-month\": \"2022-02-01T00:00:00\", \"COUNT\": 1431}, {\"year-month\": \"2022-03-01T00:00:00\", \"COUNT\": 1561}, {\"year-month\": \"2022-04-01T00:00:00\", \"COUNT\": 1587}, {\"year-month\": \"2022-05-01T00:00:00\", \"COUNT\": 1590}, {\"year-month\": \"2022-06-01T00:00:00\", \"COUNT\": 1509}, {\"year-month\": \"2022-07-01T00:00:00\", \"COUNT\": 1679}, {\"year-month\": \"2022-08-01T00:00:00\", \"COUNT\": 1797}, {\"year-month\": \"2022-09-01T00:00:00\", \"COUNT\": 1692}, {\"year-month\": \"2022-10-01T00:00:00\", \"COUNT\": 1702}, {\"year-month\": \"2022-11-01T00:00:00\", \"COUNT\": 1374}, {\"year-month\": \"2022-12-01T00:00:00\", \"COUNT\": 1385}]}}, {\"mode\": \"vega-lite\"});\n",
       "</script>"
      ],
      "text/plain": [
       "alt.Chart(...)"
      ]
     },
     "execution_count": 16,
     "metadata": {},
     "output_type": "execute_result"
    }
   ],
   "source": [
    "## Crime trends over time\n",
    "\n",
    "# Create a new column 'year-month' by combining the YEAR and MONTH columns\n",
    "df['year-month'] = pd.to_datetime(df[['YEAR', 'MONTH']].assign(DAY=1))\n",
    "\n",
    "# Create a dataframe of crime counts by year-month\n",
    "month_counts = df.groupby('year-month')['TYPE'].count().reset_index(name='COUNT')\n",
    "\n",
    "# Create a line chart of crime counts by year-month\n",
    "alt.Chart(month_counts).mark_line().encode(\n",
    "    x='year-month:T',\n",
    "    y='COUNT:Q'\n",
    ")"
   ]
  },
  {
   "cell_type": "code",
   "execution_count": 17,
   "id": "b6ac918d-a9c9-48ac-b67f-c8baac4bc5ed",
   "metadata": {},
   "outputs": [
    {
     "name": "stderr",
     "output_type": "stream",
     "text": [
      "/Users/justin/miniforge3/lib/python3.10/site-packages/altair/utils/data.py:226: AltairDeprecationWarning: alt.pipe() is deprecated, and will be removed in a future release. Use toolz.curried.pipe() instead.\n",
      "  warnings.warn(\n",
      "/Users/justin/miniforge3/lib/python3.10/site-packages/altair/utils/core.py:283: FutureWarning: iteritems is deprecated and will be removed in a future version. Use .items instead.\n",
      "  for col_name, dtype in df.dtypes.iteritems():\n"
     ]
    },
    {
     "data": {
      "text/html": [
       "\n",
       "<div id=\"altair-viz-27346f57144b468abfb5b79e70f1ed71\"></div>\n",
       "<script type=\"text/javascript\">\n",
       "  (function(spec, embedOpt){\n",
       "    let outputDiv = document.currentScript.previousElementSibling;\n",
       "    if (outputDiv.id !== \"altair-viz-27346f57144b468abfb5b79e70f1ed71\") {\n",
       "      outputDiv = document.getElementById(\"altair-viz-27346f57144b468abfb5b79e70f1ed71\");\n",
       "    }\n",
       "    const paths = {\n",
       "      \"vega\": \"https://cdn.jsdelivr.net/npm//vega@5?noext\",\n",
       "      \"vega-lib\": \"https://cdn.jsdelivr.net/npm//vega-lib?noext\",\n",
       "      \"vega-lite\": \"https://cdn.jsdelivr.net/npm//vega-lite@4.8.1?noext\",\n",
       "      \"vega-embed\": \"https://cdn.jsdelivr.net/npm//vega-embed@6?noext\",\n",
       "    };\n",
       "\n",
       "    function loadScript(lib) {\n",
       "      return new Promise(function(resolve, reject) {\n",
       "        var s = document.createElement('script');\n",
       "        s.src = paths[lib];\n",
       "        s.async = true;\n",
       "        s.onload = () => resolve(paths[lib]);\n",
       "        s.onerror = () => reject(`Error loading script: ${paths[lib]}`);\n",
       "        document.getElementsByTagName(\"head\")[0].appendChild(s);\n",
       "      });\n",
       "    }\n",
       "\n",
       "    function showError(err) {\n",
       "      outputDiv.innerHTML = `<div class=\"error\" style=\"color:red;\">${err}</div>`;\n",
       "      throw err;\n",
       "    }\n",
       "\n",
       "    function displayChart(vegaEmbed) {\n",
       "      vegaEmbed(outputDiv, spec, embedOpt)\n",
       "        .catch(err => showError(`Javascript Error: ${err.message}<br>This usually means there's a typo in your chart specification. See the javascript console for the full traceback.`));\n",
       "    }\n",
       "\n",
       "    if(typeof define === \"function\" && define.amd) {\n",
       "      requirejs.config({paths});\n",
       "      require([\"vega-embed\"], displayChart, err => showError(`Error loading script: ${err.message}`));\n",
       "    } else if (typeof vegaEmbed === \"function\") {\n",
       "      displayChart(vegaEmbed);\n",
       "    } else {\n",
       "      loadScript(\"vega\")\n",
       "        .then(() => loadScript(\"vega-lite\"))\n",
       "        .then(() => loadScript(\"vega-embed\"))\n",
       "        .catch(showError)\n",
       "        .then(() => displayChart(vegaEmbed));\n",
       "    }\n",
       "  })({\"config\": {\"view\": {\"continuousWidth\": 400, \"continuousHeight\": 300}}, \"data\": {\"name\": \"data-f833e4c3e674adf3343166be590df25f\"}, \"mark\": \"bar\", \"encoding\": {\"color\": {\"type\": \"nominal\", \"field\": \"TYPE\"}, \"x\": {\"type\": \"quantitative\", \"field\": \"counts\"}, \"y\": {\"type\": \"nominal\", \"field\": \"NEIGHBOURHOOD\", \"sort\": \"-x\"}}, \"$schema\": \"https://vega.github.io/schema/vega-lite/v4.8.1.json\", \"datasets\": {\"data-f833e4c3e674adf3343166be590df25f\": [{\"NEIGHBOURHOOD\": \"Central Business District\", \"TYPE\": \"Break and Enter Commercial\", \"counts\": 2108}, {\"NEIGHBOURHOOD\": \"Central Business District\", \"TYPE\": \"Break and Enter Residential/Other\", \"counts\": 365}, {\"NEIGHBOURHOOD\": \"Central Business District\", \"TYPE\": \"Homicide\", \"counts\": 15}, {\"NEIGHBOURHOOD\": \"Central Business District\", \"TYPE\": \"Mischief\", \"counts\": 5956}, {\"NEIGHBOURHOOD\": \"Central Business District\", \"TYPE\": \"Offence Against a Person\", \"counts\": 3902}, {\"NEIGHBOURHOOD\": \"Central Business District\", \"TYPE\": \"Other Theft\", \"counts\": 8697}, {\"NEIGHBOURHOOD\": \"Central Business District\", \"TYPE\": \"Theft from Vehicle\", \"counts\": 7242}, {\"NEIGHBOURHOOD\": \"Central Business District\", \"TYPE\": \"Theft of Bicycle\", \"counts\": 1066}, {\"NEIGHBOURHOOD\": \"Central Business District\", \"TYPE\": \"Theft of Vehicle\", \"counts\": 275}, {\"NEIGHBOURHOOD\": \"Central Business District\", \"TYPE\": \"Vehicle Collision or Pedestrian Struck (with Fatality)\", \"counts\": 7}, {\"NEIGHBOURHOOD\": \"Central Business District\", \"TYPE\": \"Vehicle Collision or Pedestrian Struck (with Injury)\", \"counts\": 453}, {\"NEIGHBOURHOOD\": \"Fairview\", \"TYPE\": \"Break and Enter Commercial\", \"counts\": 573}, {\"NEIGHBOURHOOD\": \"Fairview\", \"TYPE\": \"Break and Enter Residential/Other\", \"counts\": 195}, {\"NEIGHBOURHOOD\": \"Fairview\", \"TYPE\": \"Mischief\", \"counts\": 747}, {\"NEIGHBOURHOOD\": \"Fairview\", \"TYPE\": \"Offence Against a Person\", \"counts\": 292}, {\"NEIGHBOURHOOD\": \"Fairview\", \"TYPE\": \"Other Theft\", \"counts\": 1402}, {\"NEIGHBOURHOOD\": \"Fairview\", \"TYPE\": \"Theft from Vehicle\", \"counts\": 1303}, {\"NEIGHBOURHOOD\": \"Fairview\", \"TYPE\": \"Theft of Bicycle\", \"counts\": 639}, {\"NEIGHBOURHOOD\": \"Fairview\", \"TYPE\": \"Theft of Vehicle\", \"counts\": 111}, {\"NEIGHBOURHOOD\": \"Fairview\", \"TYPE\": \"Vehicle Collision or Pedestrian Struck (with Fatality)\", \"counts\": 1}, {\"NEIGHBOURHOOD\": \"Fairview\", \"TYPE\": \"Vehicle Collision or Pedestrian Struck (with Injury)\", \"counts\": 124}, {\"NEIGHBOURHOOD\": \"Hastings-Sunrise\", \"TYPE\": \"Break and Enter Commercial\", \"counts\": 163}, {\"NEIGHBOURHOOD\": \"Hastings-Sunrise\", \"TYPE\": \"Break and Enter Residential/Other\", \"counts\": 269}, {\"NEIGHBOURHOOD\": \"Hastings-Sunrise\", \"TYPE\": \"Homicide\", \"counts\": 3}, {\"NEIGHBOURHOOD\": \"Hastings-Sunrise\", \"TYPE\": \"Mischief\", \"counts\": 636}, {\"NEIGHBOURHOOD\": \"Hastings-Sunrise\", \"TYPE\": \"Offence Against a Person\", \"counts\": 297}, {\"NEIGHBOURHOOD\": \"Hastings-Sunrise\", \"TYPE\": \"Other Theft\", \"counts\": 542}, {\"NEIGHBOURHOOD\": \"Hastings-Sunrise\", \"TYPE\": \"Theft from Vehicle\", \"counts\": 1098}, {\"NEIGHBOURHOOD\": \"Hastings-Sunrise\", \"TYPE\": \"Theft of Bicycle\", \"counts\": 93}, {\"NEIGHBOURHOOD\": \"Hastings-Sunrise\", \"TYPE\": \"Theft of Vehicle\", \"counts\": 158}, {\"NEIGHBOURHOOD\": \"Hastings-Sunrise\", \"TYPE\": \"Vehicle Collision or Pedestrian Struck (with Fatality)\", \"counts\": 1}, {\"NEIGHBOURHOOD\": \"Hastings-Sunrise\", \"TYPE\": \"Vehicle Collision or Pedestrian Struck (with Injury)\", \"counts\": 151}, {\"NEIGHBOURHOOD\": \"Renfrew-Collingwood\", \"TYPE\": \"Break and Enter Commercial\", \"counts\": 177}, {\"NEIGHBOURHOOD\": \"Renfrew-Collingwood\", \"TYPE\": \"Break and Enter Residential/Other\", \"counts\": 250}, {\"NEIGHBOURHOOD\": \"Renfrew-Collingwood\", \"TYPE\": \"Homicide\", \"counts\": 1}, {\"NEIGHBOURHOOD\": \"Renfrew-Collingwood\", \"TYPE\": \"Mischief\", \"counts\": 682}, {\"NEIGHBOURHOOD\": \"Renfrew-Collingwood\", \"TYPE\": \"Offence Against a Person\", \"counts\": 414}, {\"NEIGHBOURHOOD\": \"Renfrew-Collingwood\", \"TYPE\": \"Other Theft\", \"counts\": 3143}, {\"NEIGHBOURHOOD\": \"Renfrew-Collingwood\", \"TYPE\": \"Theft from Vehicle\", \"counts\": 1334}, {\"NEIGHBOURHOOD\": \"Renfrew-Collingwood\", \"TYPE\": \"Theft of Bicycle\", \"counts\": 149}, {\"NEIGHBOURHOOD\": \"Renfrew-Collingwood\", \"TYPE\": \"Theft of Vehicle\", \"counts\": 207}, {\"NEIGHBOURHOOD\": \"Renfrew-Collingwood\", \"TYPE\": \"Vehicle Collision or Pedestrian Struck (with Fatality)\", \"counts\": 2}, {\"NEIGHBOURHOOD\": \"Renfrew-Collingwood\", \"TYPE\": \"Vehicle Collision or Pedestrian Struck (with Injury)\", \"counts\": 211}, {\"NEIGHBOURHOOD\": \"Strathcona\", \"TYPE\": \"Break and Enter Commercial\", \"counts\": 464}, {\"NEIGHBOURHOOD\": \"Strathcona\", \"TYPE\": \"Break and Enter Residential/Other\", \"counts\": 292}, {\"NEIGHBOURHOOD\": \"Strathcona\", \"TYPE\": \"Homicide\", \"counts\": 8}, {\"NEIGHBOURHOOD\": \"Strathcona\", \"TYPE\": \"Mischief\", \"counts\": 1680}, {\"NEIGHBOURHOOD\": \"Strathcona\", \"TYPE\": \"Offence Against a Person\", \"counts\": 1721}, {\"NEIGHBOURHOOD\": \"Strathcona\", \"TYPE\": \"Other Theft\", \"counts\": 1789}, {\"NEIGHBOURHOOD\": \"Strathcona\", \"TYPE\": \"Theft from Vehicle\", \"counts\": 1482}, {\"NEIGHBOURHOOD\": \"Strathcona\", \"TYPE\": \"Theft of Bicycle\", \"counts\": 236}, {\"NEIGHBOURHOOD\": \"Strathcona\", \"TYPE\": \"Theft of Vehicle\", \"counts\": 235}, {\"NEIGHBOURHOOD\": \"Strathcona\", \"TYPE\": \"Vehicle Collision or Pedestrian Struck (with Fatality)\", \"counts\": 8}, {\"NEIGHBOURHOOD\": \"Strathcona\", \"TYPE\": \"Vehicle Collision or Pedestrian Struck (with Injury)\", \"counts\": 175}, {\"NEIGHBOURHOOD\": \"Victoria-Fraserview\", \"TYPE\": \"Break and Enter Commercial\", \"counts\": 62}, {\"NEIGHBOURHOOD\": \"Victoria-Fraserview\", \"TYPE\": \"Break and Enter Residential/Other\", \"counts\": 111}, {\"NEIGHBOURHOOD\": \"Victoria-Fraserview\", \"TYPE\": \"Homicide\", \"counts\": 2}, {\"NEIGHBOURHOOD\": \"Victoria-Fraserview\", \"TYPE\": \"Mischief\", \"counts\": 279}, {\"NEIGHBOURHOOD\": \"Victoria-Fraserview\", \"TYPE\": \"Offence Against a Person\", \"counts\": 161}, {\"NEIGHBOURHOOD\": \"Victoria-Fraserview\", \"TYPE\": \"Other Theft\", \"counts\": 399}, {\"NEIGHBOURHOOD\": \"Victoria-Fraserview\", \"TYPE\": \"Theft from Vehicle\", \"counts\": 581}, {\"NEIGHBOURHOOD\": \"Victoria-Fraserview\", \"TYPE\": \"Theft of Bicycle\", \"counts\": 48}, {\"NEIGHBOURHOOD\": \"Victoria-Fraserview\", \"TYPE\": \"Theft of Vehicle\", \"counts\": 94}, {\"NEIGHBOURHOOD\": \"Victoria-Fraserview\", \"TYPE\": \"Vehicle Collision or Pedestrian Struck (with Fatality)\", \"counts\": 1}, {\"NEIGHBOURHOOD\": \"Victoria-Fraserview\", \"TYPE\": \"Vehicle Collision or Pedestrian Struck (with Injury)\", \"counts\": 116}]}}, {\"mode\": \"vega-lite\"});\n",
       "</script>"
      ],
      "text/plain": [
       "alt.Chart(...)"
      ]
     },
     "execution_count": 17,
     "metadata": {},
     "output_type": "execute_result"
    }
   ],
   "source": [
    "## Crime types by neighborhood\n",
    "\n",
    "# Group the data by neighborhood and crime type, and count the number of crimes in each category\n",
    "crime_types = df.groupby(['NEIGHBOURHOOD', 'TYPE']).size().reset_index(name='counts')\n",
    "\n",
    "# Create a stacked bar chart showing the crime types by neighborhood\n",
    "chart = alt.Chart(crime_types).mark_bar().encode(\n",
    "    x='counts',\n",
    "    y=alt.Y('NEIGHBOURHOOD:N', sort='-x'),\n",
    "    color='TYPE:N'\n",
    ")\n",
    "\n",
    "chart"
   ]
  },
  {
   "cell_type": "code",
   "execution_count": 18,
   "id": "c5abb198-2269-4329-9915-01293ac24e97",
   "metadata": {},
   "outputs": [
    {
     "name": "stderr",
     "output_type": "stream",
     "text": [
      "/Users/justin/miniforge3/lib/python3.10/site-packages/altair/utils/data.py:226: AltairDeprecationWarning: alt.pipe() is deprecated, and will be removed in a future release. Use toolz.curried.pipe() instead.\n",
      "  warnings.warn(\n",
      "/Users/justin/miniforge3/lib/python3.10/site-packages/altair/utils/core.py:283: FutureWarning: iteritems is deprecated and will be removed in a future version. Use .items instead.\n",
      "  for col_name, dtype in df.dtypes.iteritems():\n"
     ]
    },
    {
     "data": {
      "text/html": [
       "\n",
       "<div id=\"altair-viz-3fdbe3a076254528b6091b63378b605e\"></div>\n",
       "<script type=\"text/javascript\">\n",
       "  (function(spec, embedOpt){\n",
       "    let outputDiv = document.currentScript.previousElementSibling;\n",
       "    if (outputDiv.id !== \"altair-viz-3fdbe3a076254528b6091b63378b605e\") {\n",
       "      outputDiv = document.getElementById(\"altair-viz-3fdbe3a076254528b6091b63378b605e\");\n",
       "    }\n",
       "    const paths = {\n",
       "      \"vega\": \"https://cdn.jsdelivr.net/npm//vega@5?noext\",\n",
       "      \"vega-lib\": \"https://cdn.jsdelivr.net/npm//vega-lib?noext\",\n",
       "      \"vega-lite\": \"https://cdn.jsdelivr.net/npm//vega-lite@4.8.1?noext\",\n",
       "      \"vega-embed\": \"https://cdn.jsdelivr.net/npm//vega-embed@6?noext\",\n",
       "    };\n",
       "\n",
       "    function loadScript(lib) {\n",
       "      return new Promise(function(resolve, reject) {\n",
       "        var s = document.createElement('script');\n",
       "        s.src = paths[lib];\n",
       "        s.async = true;\n",
       "        s.onload = () => resolve(paths[lib]);\n",
       "        s.onerror = () => reject(`Error loading script: ${paths[lib]}`);\n",
       "        document.getElementsByTagName(\"head\")[0].appendChild(s);\n",
       "      });\n",
       "    }\n",
       "\n",
       "    function showError(err) {\n",
       "      outputDiv.innerHTML = `<div class=\"error\" style=\"color:red;\">${err}</div>`;\n",
       "      throw err;\n",
       "    }\n",
       "\n",
       "    function displayChart(vegaEmbed) {\n",
       "      vegaEmbed(outputDiv, spec, embedOpt)\n",
       "        .catch(err => showError(`Javascript Error: ${err.message}<br>This usually means there's a typo in your chart specification. See the javascript console for the full traceback.`));\n",
       "    }\n",
       "\n",
       "    if(typeof define === \"function\" && define.amd) {\n",
       "      requirejs.config({paths});\n",
       "      require([\"vega-embed\"], displayChart, err => showError(`Error loading script: ${err.message}`));\n",
       "    } else if (typeof vegaEmbed === \"function\") {\n",
       "      displayChart(vegaEmbed);\n",
       "    } else {\n",
       "      loadScript(\"vega\")\n",
       "        .then(() => loadScript(\"vega-lite\"))\n",
       "        .then(() => loadScript(\"vega-embed\"))\n",
       "        .catch(showError)\n",
       "        .then(() => displayChart(vegaEmbed));\n",
       "    }\n",
       "  })({\"config\": {\"view\": {\"continuousWidth\": 400, \"continuousHeight\": 300}}, \"data\": {\"name\": \"data-3c0171bdfc5cf450fd9835b37451feaa\"}, \"mark\": \"line\", \"encoding\": {\"x\": {\"type\": \"quantitative\", \"field\": \"HOUR\", \"title\": \"Hour\"}, \"y\": {\"type\": \"quantitative\", \"field\": \"count\", \"title\": \"Crime Count\"}}, \"title\": \"Hourly crime count\", \"$schema\": \"https://vega.github.io/schema/vega-lite/v4.8.1.json\", \"datasets\": {\"data-3c0171bdfc5cf450fd9835b37451feaa\": [{\"HOUR\": 0, \"count\": 9643}, {\"HOUR\": 1, \"count\": 1447}, {\"HOUR\": 2, \"count\": 1239}, {\"HOUR\": 3, \"count\": 1171}, {\"HOUR\": 4, \"count\": 1138}, {\"HOUR\": 5, \"count\": 1078}, {\"HOUR\": 6, \"count\": 1047}, {\"HOUR\": 7, \"count\": 1275}, {\"HOUR\": 8, \"count\": 1633}, {\"HOUR\": 9, \"count\": 1809}, {\"HOUR\": 10, \"count\": 1943}, {\"HOUR\": 11, \"count\": 2003}, {\"HOUR\": 12, \"count\": 2665}, {\"HOUR\": 13, \"count\": 2209}, {\"HOUR\": 14, \"count\": 2414}, {\"HOUR\": 15, \"count\": 2544}, {\"HOUR\": 16, \"count\": 2710}, {\"HOUR\": 17, \"count\": 2982}, {\"HOUR\": 18, \"count\": 2993}, {\"HOUR\": 19, \"count\": 2640}, {\"HOUR\": 20, \"count\": 2495}, {\"HOUR\": 21, \"count\": 2166}, {\"HOUR\": 22, \"count\": 2271}, {\"HOUR\": 23, \"count\": 1883}]}}, {\"mode\": \"vega-lite\"});\n",
       "</script>"
      ],
      "text/plain": [
       "alt.Chart(...)"
      ]
     },
     "execution_count": 18,
     "metadata": {},
     "output_type": "execute_result"
    }
   ],
   "source": [
    "# Hourly Crime Rate\n",
    "\n",
    "hourly_count = df.groupby('HOUR')['HOUR'].count().reset_index(name='count')\n",
    "line = alt.Chart(hourly_count).mark_line().encode(\n",
    "    x=alt.X('HOUR', title='Hour'),\n",
    "    y=alt.Y('count', title='Crime Count')\n",
    ").properties(title='Hourly crime count')\n",
    "\n",
    "line"
   ]
  },
  {
   "cell_type": "code",
   "execution_count": 19,
   "id": "2d427c2d-cc04-48c7-b946-f9491b415ed0",
   "metadata": {},
   "outputs": [],
   "source": [
    "## Correlation between crime and location - this is broken right now lol"
   ]
  },
  {
   "cell_type": "markdown",
   "id": "3a0ecf7a-1318-4d0e-add8-91db2bf2dab3",
   "metadata": {},
   "source": [
    "# Task Abstraction\n",
    "\n",
    "Task 1: Temporal Analysis - Identify patterns in crime over time\n",
    "\n",
    "Visualize the temporal trends in crime in Vancouver, focusing on monthly, weekly, and hourly patterns to identify the times of day and days of the week when crimes are most likely to occur and investigate if crime rates have increased or decreased over the years.\n",
    "\n",
    "**Attributes: Year, Month, Day, Hour, Minute**\n",
    "\n",
    "Task 2: Spatial Analysis - Explore geospatial distribution of crime in Vancouver\n",
    "\n",
    "Visualize the spatial distribution of crime in Vancouver, focusing on the neighbourhoods where the crimes occur most frequently to identify hotspots of criminal activity and investigate if certain types of crimes are more prevalent in specific neighbourhoods.\n",
    "\n",
    "**Attributes: X, Y, Neighbourhood**\n",
    "\n",
    "Task 3: Crime Type Analysis - Analyze types of crimes committed in Vancouver\n",
    "\n",
    "Visualize the types of crimes committed in Vancouver and analyzing the frequency and distribution of each type of crime to identify the most common types of crimes in the city and investigate if certain types of crimes are more prevalent in certain neighbourhoods or at certain times.\n",
    "\n",
    "**Attributes: Type, Neighbourhood, Year, Month**\n",
    "\n",
    "Task 4: Demographic Analysis - Explore relationship between crime and demographic data\n",
    "\n",
    "Visualize the relationship between crime and demographic census data in Vancouver, focusing on how different demographic factors (e.g., age, gender, income) relate to crime rates in different neighbourhoods to identify whether certain demographic factors are associated with higher or lower crime rates in particular areas, and to explore whether these relationships hold across different types of crimes.\n",
    "\n",
    "**Attributes: Type, Neighbourhood, Age, Gender, Income**\n",
    "\n",
    "Task 5: Crime Comparison - Compare crime rates across different neighbourhoods and crime types\n",
    "\n",
    "Compare crime rates across different neighbourhoods and crime types in Vancouver, allowing users to identify which neighbourhoods have higher or lower crime rates compared to others, and which types of crimes are most common in different areas. The aim is to provide a way of exploring crime data that highlights spatial and temporal differences in crime activity across the city - **TODO: this one can include multiple views of the data, and interactivity**\n",
    "\n",
    "**Attributes: Type, Neighbourhood, Year, Month, Hour, Day**"
   ]
  }
 ],
 "metadata": {
  "kernelspec": {
   "display_name": "Python 3 (ipykernel)",
   "language": "python",
   "name": "python3"
  },
  "language_info": {
   "codemirror_mode": {
    "name": "ipython",
    "version": 3
   },
   "file_extension": ".py",
   "mimetype": "text/x-python",
   "name": "python",
   "nbconvert_exporter": "python",
   "pygments_lexer": "ipython3",
   "version": "3.10.9"
  }
 },
 "nbformat": 4,
 "nbformat_minor": 5
}
